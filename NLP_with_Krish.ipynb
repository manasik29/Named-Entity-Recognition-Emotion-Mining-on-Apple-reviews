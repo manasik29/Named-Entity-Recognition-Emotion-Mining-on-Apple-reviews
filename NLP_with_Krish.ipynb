{
  "nbformat": 4,
  "nbformat_minor": 0,
  "metadata": {
    "colab": {
      "name": "NLP with Krish.ipynb",
      "provenance": [],
      "collapsed_sections": [],
      "authorship_tag": "ABX9TyNa4UFyRgH34ur7I70JDvjD",
      "include_colab_link": true
    },
    "kernelspec": {
      "name": "python3",
      "display_name": "Python 3"
    },
    "language_info": {
      "name": "python"
    }
  },
  "cells": [
    {
      "cell_type": "markdown",
      "metadata": {
        "id": "view-in-github",
        "colab_type": "text"
      },
      "source": [
        "<a href=\"https://colab.research.google.com/github/manasik29/Text-Mining/blob/main/NLP_with_Krish.ipynb\" target=\"_parent\"><img src=\"https://colab.research.google.com/assets/colab-badge.svg\" alt=\"Open In Colab\"/></a>"
      ]
    },
    {
      "cell_type": "code",
      "source": [
        "para = \"\"\"Born and raised in Vadnagar, a small town in northeastern Gujarat, Modi completed his secondary education there. He was introduced to the RSS at age eight. He has drawn attention to having to work as a child in his father's tea stall on the Vadnagar railway station platform, a description that has not been reliably corroborated. At age 18, Modi was married to Jashodaben Chimanlal Modi, whom he abandoned soon after. He left his parental home where she had come to live. He first publicly acknowledged her as his wife more than four decades later when required to do so by Indian law, but has made no contact with her since. Modi has asserted he had travelled in northern India for two years after leaving his parental home, visiting a number of religious centres, but few details of his travels have emerged. Upon his return to Gujarat in 1971, he became a full-time worker for the RSS. After the state of emergency was declared by prime minister Indira Gandhi in 1975, Modi went into hiding. The RSS assigned him to the BJP in 1985 and he held several positions within the party hierarchy until 2001, rising to the rank of general secretary.\"\"\""
      ],
      "metadata": {
        "id": "virpyF9_8reV"
      },
      "execution_count": 1,
      "outputs": []
    },
    {
      "cell_type": "code",
      "source": [
        "para"
      ],
      "metadata": {
        "id": "i9snldEgsZyw",
        "outputId": "c623060a-5dfe-4dc8-c641-c5200a12b5a9",
        "colab": {
          "base_uri": "https://localhost:8080/",
          "height": 140
        }
      },
      "execution_count": 2,
      "outputs": [
        {
          "output_type": "execute_result",
          "data": {
            "text/plain": [
              "\"Born and raised in Vadnagar, a small town in northeastern Gujarat, Modi completed his secondary education there. He was introduced to the RSS at age eight. He has drawn attention to having to work as a child in his father's tea stall on the Vadnagar railway station platform, a description that has not been reliably corroborated. At age 18, Modi was married to Jashodaben Chimanlal Modi, whom he abandoned soon after. He left his parental home where she had come to live. He first publicly acknowledged her as his wife more than four decades later when required to do so by Indian law, but has made no contact with her since. Modi has asserted he had travelled in northern India for two years after leaving his parental home, visiting a number of religious centres, but few details of his travels have emerged. Upon his return to Gujarat in 1971, he became a full-time worker for the RSS. After the state of emergency was declared by prime minister Indira Gandhi in 1975, Modi went into hiding. The RSS assigned him to the BJP in 1985 and he held several positions within the party hierarchy until 2001, rising to the rank of general secretary.\""
            ],
            "application/vnd.google.colaboratory.intrinsic+json": {
              "type": "string"
            }
          },
          "metadata": {},
          "execution_count": 2
        }
      ]
    },
    {
      "cell_type": "code",
      "source": [
        "import nltk\n",
        "from nltk.stem import PorterStemmer\n",
        "from nltk.corpus import stopwords"
      ],
      "metadata": {
        "id": "jaN0FPQ8skV7"
      },
      "execution_count": 3,
      "outputs": []
    },
    {
      "cell_type": "code",
      "source": [
        "#Tokenization - Convert para-sentences-words\n",
        "nltk.download('punkt')\n",
        "sentences = nltk.sent_tokenize(para)                              #seperate para into sentences"
      ],
      "metadata": {
        "id": "kUmzAyPxs5h_",
        "outputId": "ab39d3cb-043c-46ca-e797-08d1af9e763d",
        "colab": {
          "base_uri": "https://localhost:8080/"
        }
      },
      "execution_count": 4,
      "outputs": [
        {
          "output_type": "stream",
          "name": "stderr",
          "text": [
            "[nltk_data] Downloading package punkt to /root/nltk_data...\n",
            "[nltk_data]   Unzipping tokenizers/punkt.zip.\n"
          ]
        }
      ]
    },
    {
      "cell_type": "code",
      "source": [
        "sentences"
      ],
      "metadata": {
        "id": "Lqr-ksVZtVD3",
        "outputId": "5e5166a5-6bfb-4196-a6e7-3ea85b61aef5",
        "colab": {
          "base_uri": "https://localhost:8080/"
        }
      },
      "execution_count": 5,
      "outputs": [
        {
          "output_type": "execute_result",
          "data": {
            "text/plain": [
              "['Born and raised in Vadnagar, a small town in northeastern Gujarat, Modi completed his secondary education there.',\n",
              " 'He was introduced to the RSS at age eight.',\n",
              " \"He has drawn attention to having to work as a child in his father's tea stall on the Vadnagar railway station platform, a description that has not been reliably corroborated.\",\n",
              " 'At age 18, Modi was married to Jashodaben Chimanlal Modi, whom he abandoned soon after.',\n",
              " 'He left his parental home where she had come to live.',\n",
              " 'He first publicly acknowledged her as his wife more than four decades later when required to do so by Indian law, but has made no contact with her since.',\n",
              " 'Modi has asserted he had travelled in northern India for two years after leaving his parental home, visiting a number of religious centres, but few details of his travels have emerged.',\n",
              " 'Upon his return to Gujarat in 1971, he became a full-time worker for the RSS.',\n",
              " 'After the state of emergency was declared by prime minister Indira Gandhi in 1975, Modi went into hiding.',\n",
              " 'The RSS assigned him to the BJP in 1985 and he held several positions within the party hierarchy until 2001, rising to the rank of general secretary.']"
            ]
          },
          "metadata": {},
          "execution_count": 5
        }
      ]
    },
    {
      "cell_type": "code",
      "source": [
        "stemmer = PorterStemmer()                     #get root words\n",
        "stemmer.stem('going')"
      ],
      "metadata": {
        "id": "DNNXztC7tWzK",
        "outputId": "817e3a0b-62f8-46fb-d38a-ec8856a34135",
        "colab": {
          "base_uri": "https://localhost:8080/",
          "height": 35
        }
      },
      "execution_count": null,
      "outputs": [
        {
          "output_type": "execute_result",
          "data": {
            "text/plain": [
              "'go'"
            ],
            "application/vnd.google.colaboratory.intrinsic+json": {
              "type": "string"
            }
          },
          "metadata": {},
          "execution_count": 10
        }
      ]
    },
    {
      "cell_type": "code",
      "source": [
        "stemmer.stem('drinking')"
      ],
      "metadata": {
        "id": "ZByCNPsctySt",
        "outputId": "49b066b0-dae3-4019-ec25-98ec28642efc",
        "colab": {
          "base_uri": "https://localhost:8080/",
          "height": 35
        }
      },
      "execution_count": null,
      "outputs": [
        {
          "output_type": "execute_result",
          "data": {
            "text/plain": [
              "'drink'"
            ],
            "application/vnd.google.colaboratory.intrinsic+json": {
              "type": "string"
            }
          },
          "metadata": {},
          "execution_count": 11
        }
      ]
    },
    {
      "cell_type": "code",
      "source": [
        "stemmer.stem('history')"
      ],
      "metadata": {
        "id": "YNQ2OlHVt3d3",
        "outputId": "8634abc6-099b-404f-8d3d-a33e67d83b75",
        "colab": {
          "base_uri": "https://localhost:8080/",
          "height": 35
        }
      },
      "execution_count": null,
      "outputs": [
        {
          "output_type": "execute_result",
          "data": {
            "text/plain": [
              "'histori'"
            ],
            "application/vnd.google.colaboratory.intrinsic+json": {
              "type": "string"
            }
          },
          "metadata": {},
          "execution_count": 13
        }
      ]
    },
    {
      "cell_type": "code",
      "source": [
        "from nltk.stem import WordNetLemmatizer\n",
        "nltk.download('wordnet')"
      ],
      "metadata": {
        "id": "WSOiimATt5wc",
        "outputId": "04a5f6b8-837d-4660-f4e3-bcbef090bd95",
        "colab": {
          "base_uri": "https://localhost:8080/"
        }
      },
      "execution_count": 7,
      "outputs": [
        {
          "output_type": "stream",
          "name": "stderr",
          "text": [
            "[nltk_data] Downloading package wordnet to /root/nltk_data...\n"
          ]
        },
        {
          "output_type": "execute_result",
          "data": {
            "text/plain": [
              "True"
            ]
          },
          "metadata": {},
          "execution_count": 7
        }
      ]
    },
    {
      "cell_type": "code",
      "source": [
        "nltk.download('omw-1.4')"
      ],
      "metadata": {
        "id": "wY4HoxNgufc5",
        "outputId": "e6f5e483-9fc6-44c2-a29f-c7b63a46ab1e",
        "colab": {
          "base_uri": "https://localhost:8080/"
        }
      },
      "execution_count": 8,
      "outputs": [
        {
          "output_type": "stream",
          "name": "stderr",
          "text": [
            "[nltk_data] Downloading package omw-1.4 to /root/nltk_data...\n"
          ]
        },
        {
          "output_type": "execute_result",
          "data": {
            "text/plain": [
              "True"
            ]
          },
          "metadata": {},
          "execution_count": 8
        }
      ]
    },
    {
      "cell_type": "code",
      "source": [
        "lemmatizer = WordNetLemmatizer()              #get root words\n",
        "lemmatizer.lemmatize('history')"
      ],
      "metadata": {
        "id": "z6t0JA1muEAs",
        "outputId": "3d892043-9455-405d-c5b7-76111778c880",
        "colab": {
          "base_uri": "https://localhost:8080/",
          "height": 35
        }
      },
      "execution_count": 9,
      "outputs": [
        {
          "output_type": "execute_result",
          "data": {
            "text/plain": [
              "'history'"
            ],
            "application/vnd.google.colaboratory.intrinsic+json": {
              "type": "string"
            }
          },
          "metadata": {},
          "execution_count": 9
        }
      ]
    },
    {
      "cell_type": "code",
      "source": [
        "lemmatizer.lemmatize('goes')"
      ],
      "metadata": {
        "id": "LGeruyP4uOjJ",
        "outputId": "d0dc7f03-389e-4230-93fe-0d6790c428bd",
        "colab": {
          "base_uri": "https://localhost:8080/",
          "height": 35
        }
      },
      "execution_count": null,
      "outputs": [
        {
          "output_type": "execute_result",
          "data": {
            "text/plain": [
              "'go'"
            ],
            "application/vnd.google.colaboratory.intrinsic+json": {
              "type": "string"
            }
          },
          "metadata": {},
          "execution_count": 21
        }
      ]
    },
    {
      "cell_type": "code",
      "source": [
        "len(sentences)"
      ],
      "metadata": {
        "id": "0ZXE7W-VujkL",
        "outputId": "60365ef0-215e-4444-bf69-fdb22c53d271",
        "colab": {
          "base_uri": "https://localhost:8080/"
        }
      },
      "execution_count": null,
      "outputs": [
        {
          "output_type": "execute_result",
          "data": {
            "text/plain": [
              "10"
            ]
          },
          "metadata": {},
          "execution_count": 22
        }
      ]
    },
    {
      "cell_type": "code",
      "source": [
        "import re"
      ],
      "metadata": {
        "id": "sorSyPe1u4Rm"
      },
      "execution_count": 6,
      "outputs": []
    },
    {
      "cell_type": "code",
      "source": [
        "corpus=[]\n",
        "for i in range(len(sentences)):\n",
        "  review = re.sub('[^a-zA-Z]', ' ', sentences[i])          #Replace all sepcial characters by empty string\n",
        "  review = review.lower()                                 #Make all letters in lower case\n",
        "  corpus.append(review)          "
      ],
      "metadata": {
        "id": "XbZd_tLWvazW"
      },
      "execution_count": null,
      "outputs": []
    },
    {
      "cell_type": "code",
      "source": [
        "corpus"
      ],
      "metadata": {
        "id": "WgqEbTINwHEf",
        "outputId": "3e7a9168-41f8-496e-89dc-62006f464efe",
        "colab": {
          "base_uri": "https://localhost:8080/"
        }
      },
      "execution_count": null,
      "outputs": [
        {
          "output_type": "execute_result",
          "data": {
            "text/plain": [
              "['born and raised in vadnagar  a small town in northeastern gujarat  modi completed his secondary education there ',\n",
              " 'he was introduced to the rss at age eight ',\n",
              " 'he has drawn attention to having to work as a child in his father s tea stall on the vadnagar railway station platform  a description that has not been reliably corroborated ',\n",
              " 'at age     modi was married to jashodaben chimanlal modi  whom he abandoned soon after ',\n",
              " 'he left his parental home where she had come to live ',\n",
              " 'he first publicly acknowledged her as his wife more than four decades later when required to do so by indian law  but has made no contact with her since ',\n",
              " 'modi has asserted he had travelled in northern india for two years after leaving his parental home  visiting a number of religious centres  but few details of his travels have emerged ',\n",
              " 'upon his return to gujarat in       he became a full time worker for the rss ',\n",
              " 'after the state of emergency was declared by prime minister indira gandhi in       modi went into hiding ',\n",
              " 'the rss assigned him to the bjp in      and he held several positions within the party hierarchy until       rising to the rank of general secretary ']"
            ]
          },
          "metadata": {},
          "execution_count": 29
        }
      ]
    },
    {
      "cell_type": "code",
      "source": [
        "nltk.download('stopwords')"
      ],
      "metadata": {
        "id": "qhlkeHcUyCo7",
        "outputId": "24f44161-b3c6-4240-b173-a17322af069f",
        "colab": {
          "base_uri": "https://localhost:8080/"
        }
      },
      "execution_count": 11,
      "outputs": [
        {
          "output_type": "stream",
          "name": "stderr",
          "text": [
            "[nltk_data] Downloading package stopwords to /root/nltk_data...\n",
            "[nltk_data]   Unzipping corpora/stopwords.zip.\n"
          ]
        },
        {
          "output_type": "execute_result",
          "data": {
            "text/plain": [
              "True"
            ]
          },
          "metadata": {},
          "execution_count": 11
        }
      ]
    },
    {
      "cell_type": "code",
      "source": [
        "stopwords.words('english')                        #display stopwords"
      ],
      "metadata": {
        "id": "PIY1JrMYyGGz",
        "outputId": "0f70bf78-9d56-4c30-f8bf-a962a627fdf7",
        "colab": {
          "base_uri": "https://localhost:8080/"
        }
      },
      "execution_count": null,
      "outputs": [
        {
          "output_type": "execute_result",
          "data": {
            "text/plain": [
              "['i',\n",
              " 'me',\n",
              " 'my',\n",
              " 'myself',\n",
              " 'we',\n",
              " 'our',\n",
              " 'ours',\n",
              " 'ourselves',\n",
              " 'you',\n",
              " \"you're\",\n",
              " \"you've\",\n",
              " \"you'll\",\n",
              " \"you'd\",\n",
              " 'your',\n",
              " 'yours',\n",
              " 'yourself',\n",
              " 'yourselves',\n",
              " 'he',\n",
              " 'him',\n",
              " 'his',\n",
              " 'himself',\n",
              " 'she',\n",
              " \"she's\",\n",
              " 'her',\n",
              " 'hers',\n",
              " 'herself',\n",
              " 'it',\n",
              " \"it's\",\n",
              " 'its',\n",
              " 'itself',\n",
              " 'they',\n",
              " 'them',\n",
              " 'their',\n",
              " 'theirs',\n",
              " 'themselves',\n",
              " 'what',\n",
              " 'which',\n",
              " 'who',\n",
              " 'whom',\n",
              " 'this',\n",
              " 'that',\n",
              " \"that'll\",\n",
              " 'these',\n",
              " 'those',\n",
              " 'am',\n",
              " 'is',\n",
              " 'are',\n",
              " 'was',\n",
              " 'were',\n",
              " 'be',\n",
              " 'been',\n",
              " 'being',\n",
              " 'have',\n",
              " 'has',\n",
              " 'had',\n",
              " 'having',\n",
              " 'do',\n",
              " 'does',\n",
              " 'did',\n",
              " 'doing',\n",
              " 'a',\n",
              " 'an',\n",
              " 'the',\n",
              " 'and',\n",
              " 'but',\n",
              " 'if',\n",
              " 'or',\n",
              " 'because',\n",
              " 'as',\n",
              " 'until',\n",
              " 'while',\n",
              " 'of',\n",
              " 'at',\n",
              " 'by',\n",
              " 'for',\n",
              " 'with',\n",
              " 'about',\n",
              " 'against',\n",
              " 'between',\n",
              " 'into',\n",
              " 'through',\n",
              " 'during',\n",
              " 'before',\n",
              " 'after',\n",
              " 'above',\n",
              " 'below',\n",
              " 'to',\n",
              " 'from',\n",
              " 'up',\n",
              " 'down',\n",
              " 'in',\n",
              " 'out',\n",
              " 'on',\n",
              " 'off',\n",
              " 'over',\n",
              " 'under',\n",
              " 'again',\n",
              " 'further',\n",
              " 'then',\n",
              " 'once',\n",
              " 'here',\n",
              " 'there',\n",
              " 'when',\n",
              " 'where',\n",
              " 'why',\n",
              " 'how',\n",
              " 'all',\n",
              " 'any',\n",
              " 'both',\n",
              " 'each',\n",
              " 'few',\n",
              " 'more',\n",
              " 'most',\n",
              " 'other',\n",
              " 'some',\n",
              " 'such',\n",
              " 'no',\n",
              " 'nor',\n",
              " 'not',\n",
              " 'only',\n",
              " 'own',\n",
              " 'same',\n",
              " 'so',\n",
              " 'than',\n",
              " 'too',\n",
              " 'very',\n",
              " 's',\n",
              " 't',\n",
              " 'can',\n",
              " 'will',\n",
              " 'just',\n",
              " 'don',\n",
              " \"don't\",\n",
              " 'should',\n",
              " \"should've\",\n",
              " 'now',\n",
              " 'd',\n",
              " 'll',\n",
              " 'm',\n",
              " 'o',\n",
              " 're',\n",
              " 've',\n",
              " 'y',\n",
              " 'ain',\n",
              " 'aren',\n",
              " \"aren't\",\n",
              " 'couldn',\n",
              " \"couldn't\",\n",
              " 'didn',\n",
              " \"didn't\",\n",
              " 'doesn',\n",
              " \"doesn't\",\n",
              " 'hadn',\n",
              " \"hadn't\",\n",
              " 'hasn',\n",
              " \"hasn't\",\n",
              " 'haven',\n",
              " \"haven't\",\n",
              " 'isn',\n",
              " \"isn't\",\n",
              " 'ma',\n",
              " 'mightn',\n",
              " \"mightn't\",\n",
              " 'mustn',\n",
              " \"mustn't\",\n",
              " 'needn',\n",
              " \"needn't\",\n",
              " 'shan',\n",
              " \"shan't\",\n",
              " 'shouldn',\n",
              " \"shouldn't\",\n",
              " 'wasn',\n",
              " \"wasn't\",\n",
              " 'weren',\n",
              " \"weren't\",\n",
              " 'won',\n",
              " \"won't\",\n",
              " 'wouldn',\n",
              " \"wouldn't\"]"
            ]
          },
          "metadata": {},
          "execution_count": 36
        }
      ]
    },
    {
      "cell_type": "code",
      "source": [
        "#stemming\n",
        "for i in corpus:\n",
        "  words = nltk.word_tokenize(i) \n",
        "  for words in words:\n",
        "    if words not in set(stopwords.words('english')):                                      #remove stopwrods\n",
        "      print(stemmer.stem(words))                                                          #get root words of words apart from stopwords      "
      ],
      "metadata": {
        "id": "IZ0_A4YdwHv-",
        "outputId": "07430d48-b48f-4ea7-da15-9a9333ff1810",
        "colab": {
          "base_uri": "https://localhost:8080/"
        }
      },
      "execution_count": null,
      "outputs": [
        {
          "output_type": "stream",
          "name": "stdout",
          "text": [
            "born\n",
            "rais\n",
            "vadnagar\n",
            "small\n",
            "town\n",
            "northeastern\n",
            "gujarat\n",
            "modi\n",
            "complet\n",
            "secondari\n",
            "educ\n",
            "introduc\n",
            "rss\n",
            "age\n",
            "eight\n",
            "drawn\n",
            "attent\n",
            "work\n",
            "child\n",
            "father\n",
            "tea\n",
            "stall\n",
            "vadnagar\n",
            "railway\n",
            "station\n",
            "platform\n",
            "descript\n",
            "reliabl\n",
            "corrobor\n",
            "age\n",
            "modi\n",
            "marri\n",
            "jashodaben\n",
            "chimanl\n",
            "modi\n",
            "abandon\n",
            "soon\n",
            "left\n",
            "parent\n",
            "home\n",
            "come\n",
            "live\n",
            "first\n",
            "publicli\n",
            "acknowledg\n",
            "wife\n",
            "four\n",
            "decad\n",
            "later\n",
            "requir\n",
            "indian\n",
            "law\n",
            "made\n",
            "contact\n",
            "sinc\n",
            "modi\n",
            "assert\n",
            "travel\n",
            "northern\n",
            "india\n",
            "two\n",
            "year\n",
            "leav\n",
            "parent\n",
            "home\n",
            "visit\n",
            "number\n",
            "religi\n",
            "centr\n",
            "detail\n",
            "travel\n",
            "emerg\n",
            "upon\n",
            "return\n",
            "gujarat\n",
            "becam\n",
            "full\n",
            "time\n",
            "worker\n",
            "rss\n",
            "state\n",
            "emerg\n",
            "declar\n",
            "prime\n",
            "minist\n",
            "indira\n",
            "gandhi\n",
            "modi\n",
            "went\n",
            "hide\n",
            "rss\n",
            "assign\n",
            "bjp\n",
            "held\n",
            "sever\n",
            "posit\n",
            "within\n",
            "parti\n",
            "hierarchi\n",
            "rise\n",
            "rank\n",
            "gener\n",
            "secretari\n"
          ]
        }
      ]
    },
    {
      "cell_type": "code",
      "source": [
        "#lemmatizing\n",
        "for i in corpus:\n",
        "  words = nltk.word_tokenize(i) \n",
        "  for words in words:\n",
        "    if words not in set(stopwords.words('english')):                                      #remove stopwrods\n",
        "      print(lemmatizer.lemmatize(words))                                                  #get root words of words apart from stopwords  "
      ],
      "metadata": {
        "id": "BgtztqayyYaI",
        "outputId": "4d0e4fa9-f339-4019-d847-e70cfccce142",
        "colab": {
          "base_uri": "https://localhost:8080/"
        }
      },
      "execution_count": null,
      "outputs": [
        {
          "output_type": "stream",
          "name": "stdout",
          "text": [
            "born\n",
            "raised\n",
            "vadnagar\n",
            "small\n",
            "town\n",
            "northeastern\n",
            "gujarat\n",
            "modi\n",
            "completed\n",
            "secondary\n",
            "education\n",
            "introduced\n",
            "r\n",
            "age\n",
            "eight\n",
            "drawn\n",
            "attention\n",
            "work\n",
            "child\n",
            "father\n",
            "tea\n",
            "stall\n",
            "vadnagar\n",
            "railway\n",
            "station\n",
            "platform\n",
            "description\n",
            "reliably\n",
            "corroborated\n",
            "age\n",
            "modi\n",
            "married\n",
            "jashodaben\n",
            "chimanlal\n",
            "modi\n",
            "abandoned\n",
            "soon\n",
            "left\n",
            "parental\n",
            "home\n",
            "come\n",
            "live\n",
            "first\n",
            "publicly\n",
            "acknowledged\n",
            "wife\n",
            "four\n",
            "decade\n",
            "later\n",
            "required\n",
            "indian\n",
            "law\n",
            "made\n",
            "contact\n",
            "since\n",
            "modi\n",
            "asserted\n",
            "travelled\n",
            "northern\n",
            "india\n",
            "two\n",
            "year\n",
            "leaving\n",
            "parental\n",
            "home\n",
            "visiting\n",
            "number\n",
            "religious\n",
            "centre\n",
            "detail\n",
            "travel\n",
            "emerged\n",
            "upon\n",
            "return\n",
            "gujarat\n",
            "became\n",
            "full\n",
            "time\n",
            "worker\n",
            "r\n",
            "state\n",
            "emergency\n",
            "declared\n",
            "prime\n",
            "minister\n",
            "indira\n",
            "gandhi\n",
            "modi\n",
            "went\n",
            "hiding\n",
            "r\n",
            "assigned\n",
            "bjp\n",
            "held\n",
            "several\n",
            "position\n",
            "within\n",
            "party\n",
            "hierarchy\n",
            "rising\n",
            "rank\n",
            "general\n",
            "secretary\n"
          ]
        }
      ]
    },
    {
      "cell_type": "code",
      "source": [
        "#Bag of words\n",
        "from sklearn.feature_extraction.text import CountVectorizer\n",
        "cv = CountVectorizer()\n",
        "X = cv.fit_transform(corpus)"
      ],
      "metadata": {
        "id": "t2NWijTw0erQ"
      },
      "execution_count": 15,
      "outputs": []
    },
    {
      "cell_type": "code",
      "source": [
        "cv.vocabulary_"
      ],
      "metadata": {
        "id": "11ZWUr0x0emc",
        "outputId": "35c76613-d924-46f2-cea1-a63c507dc990",
        "colab": {
          "base_uri": "https://localhost:8080/"
        }
      },
      "execution_count": null,
      "outputs": [
        {
          "output_type": "execute_result",
          "data": {
            "text/plain": [
              "{'abandoned': 0,\n",
              " 'acknowledged': 1,\n",
              " 'after': 2,\n",
              " 'age': 3,\n",
              " 'and': 4,\n",
              " 'as': 5,\n",
              " 'asserted': 6,\n",
              " 'assigned': 7,\n",
              " 'at': 8,\n",
              " 'attention': 9,\n",
              " 'became': 10,\n",
              " 'been': 11,\n",
              " 'bjp': 12,\n",
              " 'born': 13,\n",
              " 'but': 14,\n",
              " 'by': 15,\n",
              " 'centres': 16,\n",
              " 'child': 17,\n",
              " 'chimanlal': 18,\n",
              " 'come': 19,\n",
              " 'completed': 20,\n",
              " 'contact': 21,\n",
              " 'corroborated': 22,\n",
              " 'decades': 23,\n",
              " 'declared': 24,\n",
              " 'description': 25,\n",
              " 'details': 26,\n",
              " 'do': 27,\n",
              " 'drawn': 28,\n",
              " 'education': 29,\n",
              " 'eight': 30,\n",
              " 'emerged': 31,\n",
              " 'emergency': 32,\n",
              " 'father': 33,\n",
              " 'few': 34,\n",
              " 'first': 35,\n",
              " 'for': 36,\n",
              " 'four': 37,\n",
              " 'full': 38,\n",
              " 'gandhi': 39,\n",
              " 'general': 40,\n",
              " 'gujarat': 41,\n",
              " 'had': 42,\n",
              " 'has': 43,\n",
              " 'have': 44,\n",
              " 'having': 45,\n",
              " 'he': 46,\n",
              " 'held': 47,\n",
              " 'her': 48,\n",
              " 'hiding': 49,\n",
              " 'hierarchy': 50,\n",
              " 'him': 51,\n",
              " 'his': 52,\n",
              " 'home': 53,\n",
              " 'in': 54,\n",
              " 'india': 55,\n",
              " 'indian': 56,\n",
              " 'indira': 57,\n",
              " 'into': 58,\n",
              " 'introduced': 59,\n",
              " 'jashodaben': 60,\n",
              " 'later': 61,\n",
              " 'law': 62,\n",
              " 'leaving': 63,\n",
              " 'left': 64,\n",
              " 'live': 65,\n",
              " 'made': 66,\n",
              " 'married': 67,\n",
              " 'minister': 68,\n",
              " 'modi': 69,\n",
              " 'more': 70,\n",
              " 'no': 71,\n",
              " 'northeastern': 72,\n",
              " 'northern': 73,\n",
              " 'not': 74,\n",
              " 'number': 75,\n",
              " 'of': 76,\n",
              " 'on': 77,\n",
              " 'parental': 78,\n",
              " 'party': 79,\n",
              " 'platform': 80,\n",
              " 'positions': 81,\n",
              " 'prime': 82,\n",
              " 'publicly': 83,\n",
              " 'railway': 84,\n",
              " 'raised': 85,\n",
              " 'rank': 86,\n",
              " 'reliably': 87,\n",
              " 'religious': 88,\n",
              " 'required': 89,\n",
              " 'return': 90,\n",
              " 'rising': 91,\n",
              " 'rss': 92,\n",
              " 'secondary': 93,\n",
              " 'secretary': 94,\n",
              " 'several': 95,\n",
              " 'she': 96,\n",
              " 'since': 97,\n",
              " 'small': 98,\n",
              " 'so': 99,\n",
              " 'soon': 100,\n",
              " 'stall': 101,\n",
              " 'state': 102,\n",
              " 'station': 103,\n",
              " 'tea': 104,\n",
              " 'than': 105,\n",
              " 'that': 106,\n",
              " 'the': 107,\n",
              " 'there': 108,\n",
              " 'time': 109,\n",
              " 'to': 110,\n",
              " 'town': 111,\n",
              " 'travelled': 112,\n",
              " 'travels': 113,\n",
              " 'two': 114,\n",
              " 'until': 115,\n",
              " 'upon': 116,\n",
              " 'vadnagar': 117,\n",
              " 'visiting': 118,\n",
              " 'was': 119,\n",
              " 'went': 120,\n",
              " 'when': 121,\n",
              " 'where': 122,\n",
              " 'whom': 123,\n",
              " 'wife': 124,\n",
              " 'with': 125,\n",
              " 'within': 126,\n",
              " 'work': 127,\n",
              " 'worker': 128,\n",
              " 'years': 129}"
            ]
          },
          "metadata": {},
          "execution_count": 41
        }
      ]
    },
    {
      "cell_type": "code",
      "source": [
        "corpus[0]"
      ],
      "metadata": {
        "id": "37SAs6JC0ehn",
        "outputId": "c0020dda-7e99-4366-fb28-e6a8daeb89bc",
        "colab": {
          "base_uri": "https://localhost:8080/",
          "height": 35
        }
      },
      "execution_count": null,
      "outputs": [
        {
          "output_type": "execute_result",
          "data": {
            "text/plain": [
              "'born and raised in vadnagar  a small town in northeastern gujarat  modi completed his secondary education there '"
            ],
            "application/vnd.google.colaboratory.intrinsic+json": {
              "type": "string"
            }
          },
          "metadata": {},
          "execution_count": 42
        }
      ]
    },
    {
      "cell_type": "code",
      "source": [
        "X[0].toarray()"
      ],
      "metadata": {
        "id": "RP3lpKPg0ea1",
        "outputId": "4223b654-0c7b-4595-9f69-34231f9dddd1",
        "colab": {
          "base_uri": "https://localhost:8080/"
        }
      },
      "execution_count": null,
      "outputs": [
        {
          "output_type": "execute_result",
          "data": {
            "text/plain": [
              "array([[0, 0, 0, 0, 1, 0, 0, 0, 0, 0, 0, 0, 0, 1, 0, 0, 0, 0, 0, 0, 1, 0,\n",
              "        0, 0, 0, 0, 0, 0, 0, 1, 0, 0, 0, 0, 0, 0, 0, 0, 0, 0, 0, 1, 0, 0,\n",
              "        0, 0, 0, 0, 0, 0, 0, 0, 1, 0, 2, 0, 0, 0, 0, 0, 0, 0, 0, 0, 0, 0,\n",
              "        0, 0, 0, 1, 0, 0, 1, 0, 0, 0, 0, 0, 0, 0, 0, 0, 0, 0, 0, 1, 0, 0,\n",
              "        0, 0, 0, 0, 0, 1, 0, 0, 0, 0, 1, 0, 0, 0, 0, 0, 0, 0, 0, 0, 1, 0,\n",
              "        0, 1, 0, 0, 0, 0, 0, 1, 0, 0, 0, 0, 0, 0, 0, 0, 0, 0, 0, 0]])"
            ]
          },
          "metadata": {},
          "execution_count": 43
        }
      ]
    },
    {
      "cell_type": "code",
      "source": [
        "cv = CountVectorizer(binary=True)             #for binary expression\n",
        "X_bin = cv.fit_transform(corpus)"
      ],
      "metadata": {
        "id": "Egt_OMtC0eUo"
      },
      "execution_count": null,
      "outputs": []
    },
    {
      "cell_type": "code",
      "source": [
        "X_bin[0].toarray()                              #no numbers other than 0 & 1"
      ],
      "metadata": {
        "id": "q4SATsyx0eOf",
        "outputId": "affee570-e721-4d4f-ca3c-e1020b883e51",
        "colab": {
          "base_uri": "https://localhost:8080/"
        }
      },
      "execution_count": null,
      "outputs": [
        {
          "output_type": "execute_result",
          "data": {
            "text/plain": [
              "array([[0, 0, 0, 0, 1, 0, 0, 0, 0, 0, 0, 0, 0, 1, 0, 0, 0, 0, 0, 0, 1, 0,\n",
              "        0, 0, 0, 0, 0, 0, 0, 1, 0, 0, 0, 0, 0, 0, 0, 0, 0, 0, 0, 1, 0, 0,\n",
              "        0, 0, 0, 0, 0, 0, 0, 0, 1, 0, 1, 0, 0, 0, 0, 0, 0, 0, 0, 0, 0, 0,\n",
              "        0, 0, 0, 1, 0, 0, 1, 0, 0, 0, 0, 0, 0, 0, 0, 0, 0, 0, 0, 1, 0, 0,\n",
              "        0, 0, 0, 0, 0, 1, 0, 0, 0, 0, 1, 0, 0, 0, 0, 0, 0, 0, 0, 0, 1, 0,\n",
              "        0, 1, 0, 0, 0, 0, 0, 1, 0, 0, 0, 0, 0, 0, 0, 0, 0, 0, 0, 0]])"
            ]
          },
          "metadata": {},
          "execution_count": 45
        }
      ]
    },
    {
      "cell_type": "code",
      "source": [
        "#Apply all the above functions in one code(remove special characters, stopwords, lower case only, lemmatize)\n",
        "corpus = []\n",
        "for i in range(len(sentences)):\n",
        "  review = re.sub('[^a-zA-Z]', ' ', sentences[i])\n",
        "  review= review.lower()\n",
        "  review = review.split()\n",
        "  review = [lemmatizer.lemmatize(word) for word in review if not word in set(stopwords.words('english'))]\n",
        "  review = ' '.join(review)\n",
        "  corpus.append(review)"
      ],
      "metadata": {
        "id": "DZLNQKZU0eIO"
      },
      "execution_count": 12,
      "outputs": []
    },
    {
      "cell_type": "code",
      "source": [
        "corpus"
      ],
      "metadata": {
        "id": "YUgHgiN00d8g",
        "outputId": "83db6e53-67da-46a9-aa4d-5a98288aa5b5",
        "colab": {
          "base_uri": "https://localhost:8080/"
        }
      },
      "execution_count": 13,
      "outputs": [
        {
          "output_type": "execute_result",
          "data": {
            "text/plain": [
              "['born raised vadnagar small town northeastern gujarat modi completed secondary education',\n",
              " 'introduced r age eight',\n",
              " 'drawn attention work child father tea stall vadnagar railway station platform description reliably corroborated',\n",
              " 'age modi married jashodaben chimanlal modi abandoned soon',\n",
              " 'left parental home come live',\n",
              " 'first publicly acknowledged wife four decade later required indian law made contact since',\n",
              " 'modi asserted travelled northern india two year leaving parental home visiting number religious centre detail travel emerged',\n",
              " 'upon return gujarat became full time worker r',\n",
              " 'state emergency declared prime minister indira gandhi modi went hiding',\n",
              " 'r assigned bjp held several position within party hierarchy rising rank general secretary']"
            ]
          },
          "metadata": {},
          "execution_count": 13
        }
      ]
    },
    {
      "cell_type": "code",
      "source": [
        "#Bag of words\n",
        "#On the preprocessed data apply count vectorizer\n",
        "cv = CountVectorizer()\n",
        "X = cv.fit_transform(corpus)\n",
        "X[0].toarray()"
      ],
      "metadata": {
        "id": "XzSHORkh65ZC",
        "outputId": "eabe7439-3b5e-4a1b-bc63-cfed35ff70c8",
        "colab": {
          "base_uri": "https://localhost:8080/"
        }
      },
      "execution_count": 16,
      "outputs": [
        {
          "output_type": "execute_result",
          "data": {
            "text/plain": [
              "array([[0, 0, 0, 0, 0, 0, 0, 0, 1, 0, 0, 0, 0, 1, 0, 0, 0, 0, 0, 0, 0, 1,\n",
              "        0, 0, 0, 0, 0, 0, 0, 0, 0, 1, 0, 0, 0, 0, 0, 0, 0, 0, 0, 0, 0, 0,\n",
              "        0, 0, 0, 0, 0, 1, 1, 0, 0, 0, 0, 0, 0, 0, 0, 0, 1, 0, 0, 0, 0, 0,\n",
              "        0, 1, 0, 0, 0, 1, 0, 0, 0, 0, 0, 0, 1, 0, 0, 0, 0, 1, 0, 0, 0, 0,\n",
              "        0, 0, 0]])"
            ]
          },
          "metadata": {},
          "execution_count": 16
        }
      ]
    },
    {
      "cell_type": "code",
      "source": [
        "cv = CountVectorizer(binary=True, ngram_range=(3,3))       #display trigrams\n",
        "X = cv.fit_transform(corpus)\n",
        "X[0].toarray()"
      ],
      "metadata": {
        "id": "D297kaDv7nVq",
        "colab": {
          "base_uri": "https://localhost:8080/"
        },
        "outputId": "15508818-7c16-4611-a197-03e3c6ffd076"
      },
      "execution_count": 17,
      "outputs": [
        {
          "output_type": "execute_result",
          "data": {
            "text/plain": [
              "array([[0, 0, 0, 0, 0, 0, 0, 1, 0, 0, 0, 1, 0, 0, 0, 0, 0, 0, 0, 0, 0, 0,\n",
              "        0, 0, 1, 0, 0, 0, 0, 0, 0, 0, 0, 0, 0, 0, 0, 0, 0, 0, 0, 0, 0, 1,\n",
              "        0, 0, 1, 0, 0, 0, 0, 0, 0, 0, 0, 0, 0, 1, 0, 0, 0, 0, 0, 0, 1, 0,\n",
              "        0, 0, 0, 1, 0, 0, 0, 0, 1, 0, 0, 0, 0, 0]])"
            ]
          },
          "metadata": {},
          "execution_count": 17
        }
      ]
    },
    {
      "cell_type": "code",
      "source": [
        "cv.vocabulary_"
      ],
      "metadata": {
        "colab": {
          "base_uri": "https://localhost:8080/"
        },
        "id": "tgjKmXoDG6fW",
        "outputId": "8f687b90-f578-48ef-ec7c-edb5ca0ccd1d"
      },
      "execution_count": 18,
      "outputs": [
        {
          "output_type": "execute_result",
          "data": {
            "text/plain": [
              "{'acknowledged wife four': 0,\n",
              " 'age modi married': 1,\n",
              " 'asserted travelled northern': 2,\n",
              " 'assigned bjp held': 3,\n",
              " 'attention work child': 4,\n",
              " 'became full time': 5,\n",
              " 'bjp held several': 6,\n",
              " 'born raised vadnagar': 7,\n",
              " 'centre detail travel': 8,\n",
              " 'child father tea': 9,\n",
              " 'chimanlal modi abandoned': 10,\n",
              " 'completed secondary education': 11,\n",
              " 'decade later required': 12,\n",
              " 'declared prime minister': 13,\n",
              " 'description reliably corroborated': 14,\n",
              " 'detail travel emerged': 15,\n",
              " 'drawn attention work': 16,\n",
              " 'emergency declared prime': 17,\n",
              " 'father tea stall': 18,\n",
              " 'first publicly acknowledged': 19,\n",
              " 'four decade later': 20,\n",
              " 'full time worker': 21,\n",
              " 'gandhi modi went': 22,\n",
              " 'gujarat became full': 23,\n",
              " 'gujarat modi completed': 24,\n",
              " 'held several position': 25,\n",
              " 'hierarchy rising rank': 26,\n",
              " 'home come live': 27,\n",
              " 'home visiting number': 28,\n",
              " 'india two year': 29,\n",
              " 'indian law made': 30,\n",
              " 'indira gandhi modi': 31,\n",
              " 'introduced age eight': 32,\n",
              " 'jashodaben chimanlal modi': 33,\n",
              " 'later required indian': 34,\n",
              " 'law made contact': 35,\n",
              " 'leaving parental home': 36,\n",
              " 'left parental home': 37,\n",
              " 'made contact since': 38,\n",
              " 'married jashodaben chimanlal': 39,\n",
              " 'minister indira gandhi': 40,\n",
              " 'modi abandoned soon': 41,\n",
              " 'modi asserted travelled': 42,\n",
              " 'modi completed secondary': 43,\n",
              " 'modi married jashodaben': 44,\n",
              " 'modi went hiding': 45,\n",
              " 'northeastern gujarat modi': 46,\n",
              " 'northern india two': 47,\n",
              " 'number religious centre': 48,\n",
              " 'parental home come': 49,\n",
              " 'parental home visiting': 50,\n",
              " 'party hierarchy rising': 51,\n",
              " 'platform description reliably': 52,\n",
              " 'position within party': 53,\n",
              " 'prime minister indira': 54,\n",
              " 'publicly acknowledged wife': 55,\n",
              " 'railway station platform': 56,\n",
              " 'raised vadnagar small': 57,\n",
              " 'rank general secretary': 58,\n",
              " 'religious centre detail': 59,\n",
              " 'required indian law': 60,\n",
              " 'return gujarat became': 61,\n",
              " 'rising rank general': 62,\n",
              " 'several position within': 63,\n",
              " 'small town northeastern': 64,\n",
              " 'stall vadnagar railway': 65,\n",
              " 'state emergency declared': 66,\n",
              " 'station platform description': 67,\n",
              " 'tea stall vadnagar': 68,\n",
              " 'town northeastern gujarat': 69,\n",
              " 'travelled northern india': 70,\n",
              " 'two year leaving': 71,\n",
              " 'upon return gujarat': 72,\n",
              " 'vadnagar railway station': 73,\n",
              " 'vadnagar small town': 74,\n",
              " 'visiting number religious': 75,\n",
              " 'wife four decade': 76,\n",
              " 'within party hierarchy': 77,\n",
              " 'work child father': 78,\n",
              " 'year leaving parental': 79}"
            ]
          },
          "metadata": {},
          "execution_count": 18
        }
      ]
    },
    {
      "cell_type": "code",
      "source": [
        "cv = CountVectorizer(binary=True, ngram_range=(2,3))       #display trigrams & bigrams\n",
        "X = cv.fit_transform(corpus)\n",
        "X[0].toarray()"
      ],
      "metadata": {
        "colab": {
          "base_uri": "https://localhost:8080/"
        },
        "id": "f7B9VHDXG92x",
        "outputId": "b9548e56-dee1-4e8d-f39a-833241d3299f"
      },
      "execution_count": 19,
      "outputs": [
        {
          "output_type": "execute_result",
          "data": {
            "text/plain": [
              "array([[0, 0, 0, 0, 0, 0, 0, 0, 0, 0, 0, 0, 0, 0, 0, 0, 1, 1, 0, 0, 0, 0,\n",
              "        0, 0, 0, 1, 1, 0, 0, 0, 0, 0, 0, 0, 0, 0, 0, 0, 0, 0, 0, 0, 0, 0,\n",
              "        0, 0, 0, 0, 0, 0, 0, 0, 0, 1, 1, 0, 0, 0, 0, 0, 0, 0, 0, 0, 0, 0,\n",
              "        0, 0, 0, 0, 0, 0, 0, 0, 0, 0, 0, 0, 0, 0, 0, 0, 0, 0, 0, 0, 0, 0,\n",
              "        0, 0, 0, 1, 1, 0, 0, 0, 0, 1, 1, 0, 0, 0, 0, 0, 0, 0, 0, 0, 0, 0,\n",
              "        0, 0, 0, 0, 0, 0, 0, 0, 1, 1, 0, 0, 0, 0, 0, 0, 0, 0, 0, 0, 0, 1,\n",
              "        0, 0, 1, 1, 0, 0, 0, 0, 0, 0, 0, 0, 0, 1, 1, 0, 0, 0, 0, 0, 0, 0,\n",
              "        0, 0, 1, 1, 0, 0, 0, 0, 0, 0, 0, 0, 0, 0, 0]])"
            ]
          },
          "metadata": {},
          "execution_count": 19
        }
      ]
    },
    {
      "cell_type": "code",
      "source": [
        "cv.vocabulary_"
      ],
      "metadata": {
        "colab": {
          "base_uri": "https://localhost:8080/"
        },
        "id": "FhYzhr-iHJPW",
        "outputId": "cfbf5e50-6d90-4da4-d899-fcd8421e6db9"
      },
      "execution_count": 20,
      "outputs": [
        {
          "output_type": "execute_result",
          "data": {
            "text/plain": [
              "{'abandoned soon': 0,\n",
              " 'acknowledged wife': 1,\n",
              " 'acknowledged wife four': 2,\n",
              " 'age eight': 3,\n",
              " 'age modi': 4,\n",
              " 'age modi married': 5,\n",
              " 'asserted travelled': 6,\n",
              " 'asserted travelled northern': 7,\n",
              " 'assigned bjp': 8,\n",
              " 'assigned bjp held': 9,\n",
              " 'attention work': 10,\n",
              " 'attention work child': 11,\n",
              " 'became full': 12,\n",
              " 'became full time': 13,\n",
              " 'bjp held': 14,\n",
              " 'bjp held several': 15,\n",
              " 'born raised': 16,\n",
              " 'born raised vadnagar': 17,\n",
              " 'centre detail': 18,\n",
              " 'centre detail travel': 19,\n",
              " 'child father': 20,\n",
              " 'child father tea': 21,\n",
              " 'chimanlal modi': 22,\n",
              " 'chimanlal modi abandoned': 23,\n",
              " 'come live': 24,\n",
              " 'completed secondary': 25,\n",
              " 'completed secondary education': 26,\n",
              " 'contact since': 27,\n",
              " 'decade later': 28,\n",
              " 'decade later required': 29,\n",
              " 'declared prime': 30,\n",
              " 'declared prime minister': 31,\n",
              " 'description reliably': 32,\n",
              " 'description reliably corroborated': 33,\n",
              " 'detail travel': 34,\n",
              " 'detail travel emerged': 35,\n",
              " 'drawn attention': 36,\n",
              " 'drawn attention work': 37,\n",
              " 'emergency declared': 38,\n",
              " 'emergency declared prime': 39,\n",
              " 'father tea': 40,\n",
              " 'father tea stall': 41,\n",
              " 'first publicly': 42,\n",
              " 'first publicly acknowledged': 43,\n",
              " 'four decade': 44,\n",
              " 'four decade later': 45,\n",
              " 'full time': 46,\n",
              " 'full time worker': 47,\n",
              " 'gandhi modi': 48,\n",
              " 'gandhi modi went': 49,\n",
              " 'general secretary': 50,\n",
              " 'gujarat became': 51,\n",
              " 'gujarat became full': 52,\n",
              " 'gujarat modi': 53,\n",
              " 'gujarat modi completed': 54,\n",
              " 'held several': 55,\n",
              " 'held several position': 56,\n",
              " 'hierarchy rising': 57,\n",
              " 'hierarchy rising rank': 58,\n",
              " 'home come': 59,\n",
              " 'home come live': 60,\n",
              " 'home visiting': 61,\n",
              " 'home visiting number': 62,\n",
              " 'india two': 63,\n",
              " 'india two year': 64,\n",
              " 'indian law': 65,\n",
              " 'indian law made': 66,\n",
              " 'indira gandhi': 67,\n",
              " 'indira gandhi modi': 68,\n",
              " 'introduced age': 69,\n",
              " 'introduced age eight': 70,\n",
              " 'jashodaben chimanlal': 71,\n",
              " 'jashodaben chimanlal modi': 72,\n",
              " 'later required': 73,\n",
              " 'later required indian': 74,\n",
              " 'law made': 75,\n",
              " 'law made contact': 76,\n",
              " 'leaving parental': 77,\n",
              " 'leaving parental home': 78,\n",
              " 'left parental': 79,\n",
              " 'left parental home': 80,\n",
              " 'made contact': 81,\n",
              " 'made contact since': 82,\n",
              " 'married jashodaben': 83,\n",
              " 'married jashodaben chimanlal': 84,\n",
              " 'minister indira': 85,\n",
              " 'minister indira gandhi': 86,\n",
              " 'modi abandoned': 87,\n",
              " 'modi abandoned soon': 88,\n",
              " 'modi asserted': 89,\n",
              " 'modi asserted travelled': 90,\n",
              " 'modi completed': 91,\n",
              " 'modi completed secondary': 92,\n",
              " 'modi married': 93,\n",
              " 'modi married jashodaben': 94,\n",
              " 'modi went': 95,\n",
              " 'modi went hiding': 96,\n",
              " 'northeastern gujarat': 97,\n",
              " 'northeastern gujarat modi': 98,\n",
              " 'northern india': 99,\n",
              " 'northern india two': 100,\n",
              " 'number religious': 101,\n",
              " 'number religious centre': 102,\n",
              " 'parental home': 103,\n",
              " 'parental home come': 104,\n",
              " 'parental home visiting': 105,\n",
              " 'party hierarchy': 106,\n",
              " 'party hierarchy rising': 107,\n",
              " 'platform description': 108,\n",
              " 'platform description reliably': 109,\n",
              " 'position within': 110,\n",
              " 'position within party': 111,\n",
              " 'prime minister': 112,\n",
              " 'prime minister indira': 113,\n",
              " 'publicly acknowledged': 114,\n",
              " 'publicly acknowledged wife': 115,\n",
              " 'railway station': 116,\n",
              " 'railway station platform': 117,\n",
              " 'raised vadnagar': 118,\n",
              " 'raised vadnagar small': 119,\n",
              " 'rank general': 120,\n",
              " 'rank general secretary': 121,\n",
              " 'reliably corroborated': 122,\n",
              " 'religious centre': 123,\n",
              " 'religious centre detail': 124,\n",
              " 'required indian': 125,\n",
              " 'required indian law': 126,\n",
              " 'return gujarat': 127,\n",
              " 'return gujarat became': 128,\n",
              " 'rising rank': 129,\n",
              " 'rising rank general': 130,\n",
              " 'secondary education': 131,\n",
              " 'several position': 132,\n",
              " 'several position within': 133,\n",
              " 'small town': 134,\n",
              " 'small town northeastern': 135,\n",
              " 'stall vadnagar': 136,\n",
              " 'stall vadnagar railway': 137,\n",
              " 'state emergency': 138,\n",
              " 'state emergency declared': 139,\n",
              " 'station platform': 140,\n",
              " 'station platform description': 141,\n",
              " 'tea stall': 142,\n",
              " 'tea stall vadnagar': 143,\n",
              " 'time worker': 144,\n",
              " 'town northeastern': 145,\n",
              " 'town northeastern gujarat': 146,\n",
              " 'travel emerged': 147,\n",
              " 'travelled northern': 148,\n",
              " 'travelled northern india': 149,\n",
              " 'two year': 150,\n",
              " 'two year leaving': 151,\n",
              " 'upon return': 152,\n",
              " 'upon return gujarat': 153,\n",
              " 'vadnagar railway': 154,\n",
              " 'vadnagar railway station': 155,\n",
              " 'vadnagar small': 156,\n",
              " 'vadnagar small town': 157,\n",
              " 'visiting number': 158,\n",
              " 'visiting number religious': 159,\n",
              " 'went hiding': 160,\n",
              " 'wife four': 161,\n",
              " 'wife four decade': 162,\n",
              " 'within party': 163,\n",
              " 'within party hierarchy': 164,\n",
              " 'work child': 165,\n",
              " 'work child father': 166,\n",
              " 'year leaving': 167,\n",
              " 'year leaving parental': 168}"
            ]
          },
          "metadata": {},
          "execution_count": 20
        }
      ]
    },
    {
      "cell_type": "code",
      "source": [
        "#TF-IDF\n",
        "from sklearn.feature_extraction.text import TfidfVectorizer\n",
        "cv = TfidfVectorizer()\n",
        "x_tfidf = cv.fit_transform(corpus)\n",
        "x_tfidf[0].toarray()"
      ],
      "metadata": {
        "colab": {
          "base_uri": "https://localhost:8080/"
        },
        "id": "kD1Bg0x7HLeg",
        "outputId": "97235306-bb24-4af0-f66f-6c47e7180d91"
      },
      "execution_count": 23,
      "outputs": [
        {
          "output_type": "execute_result",
          "data": {
            "text/plain": [
              "array([[0.        , 0.        , 0.        , 0.        , 0.        ,\n",
              "        0.        , 0.        , 0.        , 0.31810159, 0.        ,\n",
              "        0.        , 0.        , 0.        , 0.31810159, 0.        ,\n",
              "        0.        , 0.        , 0.        , 0.        , 0.        ,\n",
              "        0.        , 0.31810159, 0.        , 0.        , 0.        ,\n",
              "        0.        , 0.        , 0.        , 0.        , 0.        ,\n",
              "        0.        , 0.27041541, 0.        , 0.        , 0.        ,\n",
              "        0.        , 0.        , 0.        , 0.        , 0.        ,\n",
              "        0.        , 0.        , 0.        , 0.        , 0.        ,\n",
              "        0.        , 0.        , 0.        , 0.        , 0.21033793,\n",
              "        0.31810159, 0.        , 0.        , 0.        , 0.        ,\n",
              "        0.        , 0.        , 0.        , 0.        , 0.        ,\n",
              "        0.31810159, 0.        , 0.        , 0.        , 0.        ,\n",
              "        0.        , 0.        , 0.31810159, 0.        , 0.        ,\n",
              "        0.        , 0.31810159, 0.        , 0.        , 0.        ,\n",
              "        0.        , 0.        , 0.        , 0.31810159, 0.        ,\n",
              "        0.        , 0.        , 0.        , 0.27041541, 0.        ,\n",
              "        0.        , 0.        , 0.        , 0.        , 0.        ,\n",
              "        0.        ]])"
            ]
          },
          "metadata": {},
          "execution_count": 23
        }
      ]
    },
    {
      "cell_type": "code",
      "source": [
        "from sklearn.feature_extraction.text import TfidfVectorizer\n",
        "cv = TfidfVectorizer(ngram_range=(2,2))                             #bigrams in tfidf\n",
        "x_tfidf = cv.fit_transform(corpus)\n",
        "x_tfidf[0].toarray()"
      ],
      "metadata": {
        "colab": {
          "base_uri": "https://localhost:8080/"
        },
        "id": "pSMoPqisIV77",
        "outputId": "ae48aaae-ad6c-4494-9bc6-54be37fbbb63"
      },
      "execution_count": 24,
      "outputs": [
        {
          "output_type": "execute_result",
          "data": {
            "text/plain": [
              "array([[0.        , 0.        , 0.        , 0.        , 0.        ,\n",
              "        0.        , 0.        , 0.        , 0.        , 0.31622777,\n",
              "        0.        , 0.        , 0.        , 0.        , 0.31622777,\n",
              "        0.        , 0.        , 0.        , 0.        , 0.        ,\n",
              "        0.        , 0.        , 0.        , 0.        , 0.        ,\n",
              "        0.        , 0.        , 0.        , 0.        , 0.31622777,\n",
              "        0.        , 0.        , 0.        , 0.        , 0.        ,\n",
              "        0.        , 0.        , 0.        , 0.        , 0.        ,\n",
              "        0.        , 0.        , 0.        , 0.        , 0.        ,\n",
              "        0.        , 0.        , 0.        , 0.31622777, 0.        ,\n",
              "        0.        , 0.31622777, 0.        , 0.        , 0.        ,\n",
              "        0.        , 0.        , 0.        , 0.        , 0.        ,\n",
              "        0.        , 0.31622777, 0.        , 0.        , 0.        ,\n",
              "        0.        , 0.        , 0.        , 0.31622777, 0.        ,\n",
              "        0.31622777, 0.        , 0.        , 0.        , 0.        ,\n",
              "        0.        , 0.31622777, 0.        , 0.        , 0.        ,\n",
              "        0.        , 0.        , 0.31622777, 0.        , 0.        ,\n",
              "        0.        , 0.        , 0.        , 0.        ]])"
            ]
          },
          "metadata": {},
          "execution_count": 24
        }
      ]
    },
    {
      "cell_type": "code",
      "source": [
        "cv.vocabulary_"
      ],
      "metadata": {
        "colab": {
          "base_uri": "https://localhost:8080/"
        },
        "id": "kQVYawtrIkdN",
        "outputId": "3e8c9de9-7695-4dca-efff-54f10d2b1a93"
      },
      "execution_count": 25,
      "outputs": [
        {
          "output_type": "execute_result",
          "data": {
            "text/plain": [
              "{'abandoned soon': 0,\n",
              " 'acknowledged wife': 1,\n",
              " 'age eight': 2,\n",
              " 'age modi': 3,\n",
              " 'asserted travelled': 4,\n",
              " 'assigned bjp': 5,\n",
              " 'attention work': 6,\n",
              " 'became full': 7,\n",
              " 'bjp held': 8,\n",
              " 'born raised': 9,\n",
              " 'centre detail': 10,\n",
              " 'child father': 11,\n",
              " 'chimanlal modi': 12,\n",
              " 'come live': 13,\n",
              " 'completed secondary': 14,\n",
              " 'contact since': 15,\n",
              " 'decade later': 16,\n",
              " 'declared prime': 17,\n",
              " 'description reliably': 18,\n",
              " 'detail travel': 19,\n",
              " 'drawn attention': 20,\n",
              " 'emergency declared': 21,\n",
              " 'father tea': 22,\n",
              " 'first publicly': 23,\n",
              " 'four decade': 24,\n",
              " 'full time': 25,\n",
              " 'gandhi modi': 26,\n",
              " 'general secretary': 27,\n",
              " 'gujarat became': 28,\n",
              " 'gujarat modi': 29,\n",
              " 'held several': 30,\n",
              " 'hierarchy rising': 31,\n",
              " 'home come': 32,\n",
              " 'home visiting': 33,\n",
              " 'india two': 34,\n",
              " 'indian law': 35,\n",
              " 'indira gandhi': 36,\n",
              " 'introduced age': 37,\n",
              " 'jashodaben chimanlal': 38,\n",
              " 'later required': 39,\n",
              " 'law made': 40,\n",
              " 'leaving parental': 41,\n",
              " 'left parental': 42,\n",
              " 'made contact': 43,\n",
              " 'married jashodaben': 44,\n",
              " 'minister indira': 45,\n",
              " 'modi abandoned': 46,\n",
              " 'modi asserted': 47,\n",
              " 'modi completed': 48,\n",
              " 'modi married': 49,\n",
              " 'modi went': 50,\n",
              " 'northeastern gujarat': 51,\n",
              " 'northern india': 52,\n",
              " 'number religious': 53,\n",
              " 'parental home': 54,\n",
              " 'party hierarchy': 55,\n",
              " 'platform description': 56,\n",
              " 'position within': 57,\n",
              " 'prime minister': 58,\n",
              " 'publicly acknowledged': 59,\n",
              " 'railway station': 60,\n",
              " 'raised vadnagar': 61,\n",
              " 'rank general': 62,\n",
              " 'reliably corroborated': 63,\n",
              " 'religious centre': 64,\n",
              " 'required indian': 65,\n",
              " 'return gujarat': 66,\n",
              " 'rising rank': 67,\n",
              " 'secondary education': 68,\n",
              " 'several position': 69,\n",
              " 'small town': 70,\n",
              " 'stall vadnagar': 71,\n",
              " 'state emergency': 72,\n",
              " 'station platform': 73,\n",
              " 'tea stall': 74,\n",
              " 'time worker': 75,\n",
              " 'town northeastern': 76,\n",
              " 'travel emerged': 77,\n",
              " 'travelled northern': 78,\n",
              " 'two year': 79,\n",
              " 'upon return': 80,\n",
              " 'vadnagar railway': 81,\n",
              " 'vadnagar small': 82,\n",
              " 'visiting number': 83,\n",
              " 'went hiding': 84,\n",
              " 'wife four': 85,\n",
              " 'within party': 86,\n",
              " 'work child': 87,\n",
              " 'year leaving': 88}"
            ]
          },
          "metadata": {},
          "execution_count": 25
        }
      ]
    },
    {
      "cell_type": "code",
      "source": [
        "from sklearn.feature_extraction.text import TfidfVectorizer\n",
        "cv = TfidfVectorizer(ngram_range=(3,3), max_features=10)                             #bigrams in tfidf and max features(top 10 features) =3\n",
        "x_tfidf = cv.fit_transform(corpus)\n",
        "x_tfidf[0].toarray()"
      ],
      "metadata": {
        "colab": {
          "base_uri": "https://localhost:8080/"
        },
        "id": "KuUHZTNqImcQ",
        "outputId": "81267d3e-a0a5-473b-baef-09aab3e25d32"
      },
      "execution_count": 29,
      "outputs": [
        {
          "output_type": "execute_result",
          "data": {
            "text/plain": [
              "array([[0., 0., 0., 0., 0., 0., 0., 0., 1., 0.]])"
            ]
          },
          "metadata": {},
          "execution_count": 29
        }
      ]
    },
    {
      "cell_type": "code",
      "source": [
        ""
      ],
      "metadata": {
        "id": "hWOtWNZgJ9IO"
      },
      "execution_count": null,
      "outputs": []
    }
  ]
}