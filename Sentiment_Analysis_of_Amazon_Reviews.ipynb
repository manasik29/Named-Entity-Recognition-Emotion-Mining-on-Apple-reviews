{
  "nbformat": 4,
  "nbformat_minor": 0,
  "metadata": {
    "colab": {
      "name": "Sentiment Analysis of Amazon Reviews",
      "provenance": [],
      "collapsed_sections": [],
      "authorship_tag": "ABX9TyNZNhtKNm/NHx+Np7ZvS45C",
      "include_colab_link": true
    },
    "kernelspec": {
      "name": "python3",
      "display_name": "Python 3"
    },
    "language_info": {
      "name": "python"
    },
    "widgets": {
      "application/vnd.jupyter.widget-state+json": {
        "e0c27e74df824bd2a42f469fba79217c": {
          "model_module": "@jupyter-widgets/controls",
          "model_name": "HBoxModel",
          "model_module_version": "1.5.0",
          "state": {
            "_dom_classes": [],
            "_model_module": "@jupyter-widgets/controls",
            "_model_module_version": "1.5.0",
            "_model_name": "HBoxModel",
            "_view_count": null,
            "_view_module": "@jupyter-widgets/controls",
            "_view_module_version": "1.5.0",
            "_view_name": "HBoxView",
            "box_style": "",
            "children": [
              "IPY_MODEL_206d5568374c424aa08ac37df7d5cfab",
              "IPY_MODEL_76414bdc405b44c7894345b52d20ac03",
              "IPY_MODEL_0665517113cf4d06aee94eda74e5ae0a"
            ],
            "layout": "IPY_MODEL_43071ab014cf45369c4559d2b06c6903"
          }
        },
        "206d5568374c424aa08ac37df7d5cfab": {
          "model_module": "@jupyter-widgets/controls",
          "model_name": "HTMLModel",
          "model_module_version": "1.5.0",
          "state": {
            "_dom_classes": [],
            "_model_module": "@jupyter-widgets/controls",
            "_model_module_version": "1.5.0",
            "_model_name": "HTMLModel",
            "_view_count": null,
            "_view_module": "@jupyter-widgets/controls",
            "_view_module_version": "1.5.0",
            "_view_name": "HTMLView",
            "description": "",
            "description_tooltip": null,
            "layout": "IPY_MODEL_770deaf60014464eb68113a9fc56e285",
            "placeholder": "​",
            "style": "IPY_MODEL_2483cd881e524c5c9298cec06aeaff3d",
            "value": "100%"
          }
        },
        "76414bdc405b44c7894345b52d20ac03": {
          "model_module": "@jupyter-widgets/controls",
          "model_name": "FloatProgressModel",
          "model_module_version": "1.5.0",
          "state": {
            "_dom_classes": [],
            "_model_module": "@jupyter-widgets/controls",
            "_model_module_version": "1.5.0",
            "_model_name": "FloatProgressModel",
            "_view_count": null,
            "_view_module": "@jupyter-widgets/controls",
            "_view_module_version": "1.5.0",
            "_view_name": "ProgressView",
            "bar_style": "success",
            "description": "",
            "description_tooltip": null,
            "layout": "IPY_MODEL_b427069369294114a2fd7946f7130090",
            "max": 562,
            "min": 0,
            "orientation": "horizontal",
            "style": "IPY_MODEL_6b69a9994d4e45d996d7d3e5638ab410",
            "value": 562
          }
        },
        "0665517113cf4d06aee94eda74e5ae0a": {
          "model_module": "@jupyter-widgets/controls",
          "model_name": "HTMLModel",
          "model_module_version": "1.5.0",
          "state": {
            "_dom_classes": [],
            "_model_module": "@jupyter-widgets/controls",
            "_model_module_version": "1.5.0",
            "_model_name": "HTMLModel",
            "_view_count": null,
            "_view_module": "@jupyter-widgets/controls",
            "_view_module_version": "1.5.0",
            "_view_name": "HTMLView",
            "description": "",
            "description_tooltip": null,
            "layout": "IPY_MODEL_15bbd510f829451cadf6ea49180f78e4",
            "placeholder": "​",
            "style": "IPY_MODEL_b611874a9e77464da4a81d34ed383688",
            "value": " 562/562 [00:02&lt;00:00, 282.80it/s]"
          }
        },
        "43071ab014cf45369c4559d2b06c6903": {
          "model_module": "@jupyter-widgets/base",
          "model_name": "LayoutModel",
          "model_module_version": "1.2.0",
          "state": {
            "_model_module": "@jupyter-widgets/base",
            "_model_module_version": "1.2.0",
            "_model_name": "LayoutModel",
            "_view_count": null,
            "_view_module": "@jupyter-widgets/base",
            "_view_module_version": "1.2.0",
            "_view_name": "LayoutView",
            "align_content": null,
            "align_items": null,
            "align_self": null,
            "border": null,
            "bottom": null,
            "display": null,
            "flex": null,
            "flex_flow": null,
            "grid_area": null,
            "grid_auto_columns": null,
            "grid_auto_flow": null,
            "grid_auto_rows": null,
            "grid_column": null,
            "grid_gap": null,
            "grid_row": null,
            "grid_template_areas": null,
            "grid_template_columns": null,
            "grid_template_rows": null,
            "height": null,
            "justify_content": null,
            "justify_items": null,
            "left": null,
            "margin": null,
            "max_height": null,
            "max_width": null,
            "min_height": null,
            "min_width": null,
            "object_fit": null,
            "object_position": null,
            "order": null,
            "overflow": null,
            "overflow_x": null,
            "overflow_y": null,
            "padding": null,
            "right": null,
            "top": null,
            "visibility": null,
            "width": null
          }
        },
        "770deaf60014464eb68113a9fc56e285": {
          "model_module": "@jupyter-widgets/base",
          "model_name": "LayoutModel",
          "model_module_version": "1.2.0",
          "state": {
            "_model_module": "@jupyter-widgets/base",
            "_model_module_version": "1.2.0",
            "_model_name": "LayoutModel",
            "_view_count": null,
            "_view_module": "@jupyter-widgets/base",
            "_view_module_version": "1.2.0",
            "_view_name": "LayoutView",
            "align_content": null,
            "align_items": null,
            "align_self": null,
            "border": null,
            "bottom": null,
            "display": null,
            "flex": null,
            "flex_flow": null,
            "grid_area": null,
            "grid_auto_columns": null,
            "grid_auto_flow": null,
            "grid_auto_rows": null,
            "grid_column": null,
            "grid_gap": null,
            "grid_row": null,
            "grid_template_areas": null,
            "grid_template_columns": null,
            "grid_template_rows": null,
            "height": null,
            "justify_content": null,
            "justify_items": null,
            "left": null,
            "margin": null,
            "max_height": null,
            "max_width": null,
            "min_height": null,
            "min_width": null,
            "object_fit": null,
            "object_position": null,
            "order": null,
            "overflow": null,
            "overflow_x": null,
            "overflow_y": null,
            "padding": null,
            "right": null,
            "top": null,
            "visibility": null,
            "width": null
          }
        },
        "2483cd881e524c5c9298cec06aeaff3d": {
          "model_module": "@jupyter-widgets/controls",
          "model_name": "DescriptionStyleModel",
          "model_module_version": "1.5.0",
          "state": {
            "_model_module": "@jupyter-widgets/controls",
            "_model_module_version": "1.5.0",
            "_model_name": "DescriptionStyleModel",
            "_view_count": null,
            "_view_module": "@jupyter-widgets/base",
            "_view_module_version": "1.2.0",
            "_view_name": "StyleView",
            "description_width": ""
          }
        },
        "b427069369294114a2fd7946f7130090": {
          "model_module": "@jupyter-widgets/base",
          "model_name": "LayoutModel",
          "model_module_version": "1.2.0",
          "state": {
            "_model_module": "@jupyter-widgets/base",
            "_model_module_version": "1.2.0",
            "_model_name": "LayoutModel",
            "_view_count": null,
            "_view_module": "@jupyter-widgets/base",
            "_view_module_version": "1.2.0",
            "_view_name": "LayoutView",
            "align_content": null,
            "align_items": null,
            "align_self": null,
            "border": null,
            "bottom": null,
            "display": null,
            "flex": null,
            "flex_flow": null,
            "grid_area": null,
            "grid_auto_columns": null,
            "grid_auto_flow": null,
            "grid_auto_rows": null,
            "grid_column": null,
            "grid_gap": null,
            "grid_row": null,
            "grid_template_areas": null,
            "grid_template_columns": null,
            "grid_template_rows": null,
            "height": null,
            "justify_content": null,
            "justify_items": null,
            "left": null,
            "margin": null,
            "max_height": null,
            "max_width": null,
            "min_height": null,
            "min_width": null,
            "object_fit": null,
            "object_position": null,
            "order": null,
            "overflow": null,
            "overflow_x": null,
            "overflow_y": null,
            "padding": null,
            "right": null,
            "top": null,
            "visibility": null,
            "width": null
          }
        },
        "6b69a9994d4e45d996d7d3e5638ab410": {
          "model_module": "@jupyter-widgets/controls",
          "model_name": "ProgressStyleModel",
          "model_module_version": "1.5.0",
          "state": {
            "_model_module": "@jupyter-widgets/controls",
            "_model_module_version": "1.5.0",
            "_model_name": "ProgressStyleModel",
            "_view_count": null,
            "_view_module": "@jupyter-widgets/base",
            "_view_module_version": "1.2.0",
            "_view_name": "StyleView",
            "bar_color": null,
            "description_width": ""
          }
        },
        "15bbd510f829451cadf6ea49180f78e4": {
          "model_module": "@jupyter-widgets/base",
          "model_name": "LayoutModel",
          "model_module_version": "1.2.0",
          "state": {
            "_model_module": "@jupyter-widgets/base",
            "_model_module_version": "1.2.0",
            "_model_name": "LayoutModel",
            "_view_count": null,
            "_view_module": "@jupyter-widgets/base",
            "_view_module_version": "1.2.0",
            "_view_name": "LayoutView",
            "align_content": null,
            "align_items": null,
            "align_self": null,
            "border": null,
            "bottom": null,
            "display": null,
            "flex": null,
            "flex_flow": null,
            "grid_area": null,
            "grid_auto_columns": null,
            "grid_auto_flow": null,
            "grid_auto_rows": null,
            "grid_column": null,
            "grid_gap": null,
            "grid_row": null,
            "grid_template_areas": null,
            "grid_template_columns": null,
            "grid_template_rows": null,
            "height": null,
            "justify_content": null,
            "justify_items": null,
            "left": null,
            "margin": null,
            "max_height": null,
            "max_width": null,
            "min_height": null,
            "min_width": null,
            "object_fit": null,
            "object_position": null,
            "order": null,
            "overflow": null,
            "overflow_x": null,
            "overflow_y": null,
            "padding": null,
            "right": null,
            "top": null,
            "visibility": null,
            "width": null
          }
        },
        "b611874a9e77464da4a81d34ed383688": {
          "model_module": "@jupyter-widgets/controls",
          "model_name": "DescriptionStyleModel",
          "model_module_version": "1.5.0",
          "state": {
            "_model_module": "@jupyter-widgets/controls",
            "_model_module_version": "1.5.0",
            "_model_name": "DescriptionStyleModel",
            "_view_count": null,
            "_view_module": "@jupyter-widgets/base",
            "_view_module_version": "1.2.0",
            "_view_name": "StyleView",
            "description_width": ""
          }
        }
      }
    }
  },
  "cells": [
    {
      "cell_type": "markdown",
      "metadata": {
        "id": "view-in-github",
        "colab_type": "text"
      },
      "source": [
        "<a href=\"https://colab.research.google.com/github/manasik29/Text-Mining/blob/main/Sentiment_Analysis_of_Amazon_Reviews.ipynb\" target=\"_parent\"><img src=\"https://colab.research.google.com/assets/colab-badge.svg\" alt=\"Open In Colab\"/></a>"
      ]
    },
    {
      "cell_type": "markdown",
      "source": [
        "**1) Extract reviews of any product from ecommerce website like amazon**\n",
        "\n",
        "**2) Perform emotion mining**"
      ],
      "metadata": {
        "id": "c-zH8mteFm3H"
      }
    },
    {
      "cell_type": "markdown",
      "source": [
        "**Load the data**"
      ],
      "metadata": {
        "id": "IzoUJMYYQMnD"
      }
    },
    {
      "cell_type": "code",
      "source": [
        "import pandas as pd\n",
        "import numpy as np\n",
        "import matplotlib.pyplot as plt\n",
        "import seaborn as sns\n",
        "\n",
        "plt.style.use('ggplot')\n",
        "\n",
        "import nltk "
      ],
      "metadata": {
        "id": "plXgU8pnKo34"
      },
      "execution_count": 1,
      "outputs": []
    },
    {
      "cell_type": "code",
      "execution_count": 2,
      "metadata": {
        "colab": {
          "base_uri": "https://localhost:8080/",
          "height": 337
        },
        "id": "O8K27Bf3FiZg",
        "outputId": "b878e440-1360-4e49-cdd1-09abf95a1b03"
      },
      "outputs": [
        {
          "output_type": "execute_result",
          "data": {
            "text/plain": [
              "   Id   ProductId          UserId                      ProfileName  \\\n",
              "0   1  B001E4KFG0  A3SGXH7AUHU8GW                       delmartian   \n",
              "1   2  B00813GRG4  A1D87F6ZCVE5NK                           dll pa   \n",
              "2   3  B000LQOCH0   ABXLMWJIXXAIN  Natalia Corres \"Natalia Corres\"   \n",
              "3   4  B000UA0QIQ  A395BORC6FGVXV                             Karl   \n",
              "4   5  B006K2ZZ7K  A1UQRSCLF8GW1T    Michael D. Bigham \"M. Wassir\"   \n",
              "\n",
              "   HelpfulnessNumerator  HelpfulnessDenominator  Score        Time  \\\n",
              "0                     1                       1      5  1303862400   \n",
              "1                     0                       0      1  1346976000   \n",
              "2                     1                       1      4  1219017600   \n",
              "3                     3                       3      2  1307923200   \n",
              "4                     0                       0      5  1350777600   \n",
              "\n",
              "                 Summary                                               Text  \n",
              "0  Good Quality Dog Food  I have bought several of the Vitality canned d...  \n",
              "1      Not as Advertised  Product arrived labeled as Jumbo Salted Peanut...  \n",
              "2  \"Delight\" says it all  This is a confection that has been around a fe...  \n",
              "3         Cough Medicine  If you are looking for the secret ingredient i...  \n",
              "4            Great taffy  Great taffy at a great price.  There was a wid...  "
            ],
            "text/html": [
              "\n",
              "  <div id=\"df-a37d88d8-fa59-4bc3-b06b-b4ef0db95b34\">\n",
              "    <div class=\"colab-df-container\">\n",
              "      <div>\n",
              "<style scoped>\n",
              "    .dataframe tbody tr th:only-of-type {\n",
              "        vertical-align: middle;\n",
              "    }\n",
              "\n",
              "    .dataframe tbody tr th {\n",
              "        vertical-align: top;\n",
              "    }\n",
              "\n",
              "    .dataframe thead th {\n",
              "        text-align: right;\n",
              "    }\n",
              "</style>\n",
              "<table border=\"1\" class=\"dataframe\">\n",
              "  <thead>\n",
              "    <tr style=\"text-align: right;\">\n",
              "      <th></th>\n",
              "      <th>Id</th>\n",
              "      <th>ProductId</th>\n",
              "      <th>UserId</th>\n",
              "      <th>ProfileName</th>\n",
              "      <th>HelpfulnessNumerator</th>\n",
              "      <th>HelpfulnessDenominator</th>\n",
              "      <th>Score</th>\n",
              "      <th>Time</th>\n",
              "      <th>Summary</th>\n",
              "      <th>Text</th>\n",
              "    </tr>\n",
              "  </thead>\n",
              "  <tbody>\n",
              "    <tr>\n",
              "      <th>0</th>\n",
              "      <td>1</td>\n",
              "      <td>B001E4KFG0</td>\n",
              "      <td>A3SGXH7AUHU8GW</td>\n",
              "      <td>delmartian</td>\n",
              "      <td>1</td>\n",
              "      <td>1</td>\n",
              "      <td>5</td>\n",
              "      <td>1303862400</td>\n",
              "      <td>Good Quality Dog Food</td>\n",
              "      <td>I have bought several of the Vitality canned d...</td>\n",
              "    </tr>\n",
              "    <tr>\n",
              "      <th>1</th>\n",
              "      <td>2</td>\n",
              "      <td>B00813GRG4</td>\n",
              "      <td>A1D87F6ZCVE5NK</td>\n",
              "      <td>dll pa</td>\n",
              "      <td>0</td>\n",
              "      <td>0</td>\n",
              "      <td>1</td>\n",
              "      <td>1346976000</td>\n",
              "      <td>Not as Advertised</td>\n",
              "      <td>Product arrived labeled as Jumbo Salted Peanut...</td>\n",
              "    </tr>\n",
              "    <tr>\n",
              "      <th>2</th>\n",
              "      <td>3</td>\n",
              "      <td>B000LQOCH0</td>\n",
              "      <td>ABXLMWJIXXAIN</td>\n",
              "      <td>Natalia Corres \"Natalia Corres\"</td>\n",
              "      <td>1</td>\n",
              "      <td>1</td>\n",
              "      <td>4</td>\n",
              "      <td>1219017600</td>\n",
              "      <td>\"Delight\" says it all</td>\n",
              "      <td>This is a confection that has been around a fe...</td>\n",
              "    </tr>\n",
              "    <tr>\n",
              "      <th>3</th>\n",
              "      <td>4</td>\n",
              "      <td>B000UA0QIQ</td>\n",
              "      <td>A395BORC6FGVXV</td>\n",
              "      <td>Karl</td>\n",
              "      <td>3</td>\n",
              "      <td>3</td>\n",
              "      <td>2</td>\n",
              "      <td>1307923200</td>\n",
              "      <td>Cough Medicine</td>\n",
              "      <td>If you are looking for the secret ingredient i...</td>\n",
              "    </tr>\n",
              "    <tr>\n",
              "      <th>4</th>\n",
              "      <td>5</td>\n",
              "      <td>B006K2ZZ7K</td>\n",
              "      <td>A1UQRSCLF8GW1T</td>\n",
              "      <td>Michael D. Bigham \"M. Wassir\"</td>\n",
              "      <td>0</td>\n",
              "      <td>0</td>\n",
              "      <td>5</td>\n",
              "      <td>1350777600</td>\n",
              "      <td>Great taffy</td>\n",
              "      <td>Great taffy at a great price.  There was a wid...</td>\n",
              "    </tr>\n",
              "  </tbody>\n",
              "</table>\n",
              "</div>\n",
              "      <button class=\"colab-df-convert\" onclick=\"convertToInteractive('df-a37d88d8-fa59-4bc3-b06b-b4ef0db95b34')\"\n",
              "              title=\"Convert this dataframe to an interactive table.\"\n",
              "              style=\"display:none;\">\n",
              "        \n",
              "  <svg xmlns=\"http://www.w3.org/2000/svg\" height=\"24px\"viewBox=\"0 0 24 24\"\n",
              "       width=\"24px\">\n",
              "    <path d=\"M0 0h24v24H0V0z\" fill=\"none\"/>\n",
              "    <path d=\"M18.56 5.44l.94 2.06.94-2.06 2.06-.94-2.06-.94-.94-2.06-.94 2.06-2.06.94zm-11 1L8.5 8.5l.94-2.06 2.06-.94-2.06-.94L8.5 2.5l-.94 2.06-2.06.94zm10 10l.94 2.06.94-2.06 2.06-.94-2.06-.94-.94-2.06-.94 2.06-2.06.94z\"/><path d=\"M17.41 7.96l-1.37-1.37c-.4-.4-.92-.59-1.43-.59-.52 0-1.04.2-1.43.59L10.3 9.45l-7.72 7.72c-.78.78-.78 2.05 0 2.83L4 21.41c.39.39.9.59 1.41.59.51 0 1.02-.2 1.41-.59l7.78-7.78 2.81-2.81c.8-.78.8-2.07 0-2.86zM5.41 20L4 18.59l7.72-7.72 1.47 1.35L5.41 20z\"/>\n",
              "  </svg>\n",
              "      </button>\n",
              "      \n",
              "  <style>\n",
              "    .colab-df-container {\n",
              "      display:flex;\n",
              "      flex-wrap:wrap;\n",
              "      gap: 12px;\n",
              "    }\n",
              "\n",
              "    .colab-df-convert {\n",
              "      background-color: #E8F0FE;\n",
              "      border: none;\n",
              "      border-radius: 50%;\n",
              "      cursor: pointer;\n",
              "      display: none;\n",
              "      fill: #1967D2;\n",
              "      height: 32px;\n",
              "      padding: 0 0 0 0;\n",
              "      width: 32px;\n",
              "    }\n",
              "\n",
              "    .colab-df-convert:hover {\n",
              "      background-color: #E2EBFA;\n",
              "      box-shadow: 0px 1px 2px rgba(60, 64, 67, 0.3), 0px 1px 3px 1px rgba(60, 64, 67, 0.15);\n",
              "      fill: #174EA6;\n",
              "    }\n",
              "\n",
              "    [theme=dark] .colab-df-convert {\n",
              "      background-color: #3B4455;\n",
              "      fill: #D2E3FC;\n",
              "    }\n",
              "\n",
              "    [theme=dark] .colab-df-convert:hover {\n",
              "      background-color: #434B5C;\n",
              "      box-shadow: 0px 1px 3px 1px rgba(0, 0, 0, 0.15);\n",
              "      filter: drop-shadow(0px 1px 2px rgba(0, 0, 0, 0.3));\n",
              "      fill: #FFFFFF;\n",
              "    }\n",
              "  </style>\n",
              "\n",
              "      <script>\n",
              "        const buttonEl =\n",
              "          document.querySelector('#df-a37d88d8-fa59-4bc3-b06b-b4ef0db95b34 button.colab-df-convert');\n",
              "        buttonEl.style.display =\n",
              "          google.colab.kernel.accessAllowed ? 'block' : 'none';\n",
              "\n",
              "        async function convertToInteractive(key) {\n",
              "          const element = document.querySelector('#df-a37d88d8-fa59-4bc3-b06b-b4ef0db95b34');\n",
              "          const dataTable =\n",
              "            await google.colab.kernel.invokeFunction('convertToInteractive',\n",
              "                                                     [key], {});\n",
              "          if (!dataTable) return;\n",
              "\n",
              "          const docLinkHtml = 'Like what you see? Visit the ' +\n",
              "            '<a target=\"_blank\" href=https://colab.research.google.com/notebooks/data_table.ipynb>data table notebook</a>'\n",
              "            + ' to learn more about interactive tables.';\n",
              "          element.innerHTML = '';\n",
              "          dataTable['output_type'] = 'display_data';\n",
              "          await google.colab.output.renderOutput(dataTable, element);\n",
              "          const docLink = document.createElement('div');\n",
              "          docLink.innerHTML = docLinkHtml;\n",
              "          element.appendChild(docLink);\n",
              "        }\n",
              "      </script>\n",
              "    </div>\n",
              "  </div>\n",
              "  "
            ]
          },
          "metadata": {},
          "execution_count": 2
        }
      ],
      "source": [
        "data = pd.read_csv(\"/content/Reviews.csv\",encoding = \"ISO-8859-1\")\n",
        "data.head()"
      ]
    },
    {
      "cell_type": "code",
      "source": [
        "data.shape"
      ],
      "metadata": {
        "colab": {
          "base_uri": "https://localhost:8080/"
        },
        "id": "pThdWLNjOZqi",
        "outputId": "bbf9a5af-b3e7-4577-dfa8-7d21335ed78e"
      },
      "execution_count": 3,
      "outputs": [
        {
          "output_type": "execute_result",
          "data": {
            "text/plain": [
              "(187322, 10)"
            ]
          },
          "metadata": {},
          "execution_count": 3
        }
      ]
    },
    {
      "cell_type": "code",
      "source": [
        "data.info()"
      ],
      "metadata": {
        "colab": {
          "base_uri": "https://localhost:8080/"
        },
        "id": "s4KTUqL4Op6l",
        "outputId": "724c3d2f-a6cf-434c-8037-e8402eac860c"
      },
      "execution_count": 4,
      "outputs": [
        {
          "output_type": "stream",
          "name": "stdout",
          "text": [
            "<class 'pandas.core.frame.DataFrame'>\n",
            "RangeIndex: 187322 entries, 0 to 187321\n",
            "Data columns (total 10 columns):\n",
            " #   Column                  Non-Null Count   Dtype \n",
            "---  ------                  --------------   ----- \n",
            " 0   Id                      187322 non-null  int64 \n",
            " 1   ProductId               187322 non-null  object\n",
            " 2   UserId                  187322 non-null  object\n",
            " 3   ProfileName             187314 non-null  object\n",
            " 4   HelpfulnessNumerator    187322 non-null  int64 \n",
            " 5   HelpfulnessDenominator  187322 non-null  int64 \n",
            " 6   Score                   187322 non-null  int64 \n",
            " 7   Time                    187322 non-null  int64 \n",
            " 8   Summary                 187315 non-null  object\n",
            " 9   Text                    187322 non-null  object\n",
            "dtypes: int64(5), object(5)\n",
            "memory usage: 14.3+ MB\n"
          ]
        }
      ]
    },
    {
      "cell_type": "code",
      "source": [
        "temp = data.sample(frac=1)          #shuffle all the data\n",
        "frac = data.sample(frac=0.003)      #shuffle and get a small fraction to save some time in analysis"
      ],
      "metadata": {
        "id": "rrDI5b7HO2jh"
      },
      "execution_count": 34,
      "outputs": []
    },
    {
      "cell_type": "code",
      "source": [
        "frac.shape"
      ],
      "metadata": {
        "colab": {
          "base_uri": "https://localhost:8080/"
        },
        "id": "7yTiow2FP45o",
        "outputId": "1ebe1663-6513-4b91-b28a-c4e5fbc8bdba"
      },
      "execution_count": 35,
      "outputs": [
        {
          "output_type": "execute_result",
          "data": {
            "text/plain": [
              "(562, 10)"
            ]
          },
          "metadata": {},
          "execution_count": 35
        }
      ]
    },
    {
      "cell_type": "code",
      "source": [
        "frac = frac.reset_index()\n",
        "frac = frac.drop('index', axis=1)\n",
        "frac = frac.drop('level_0', axis=1)"
      ],
      "metadata": {
        "id": "WSe7tCrvWVsU"
      },
      "execution_count": null,
      "outputs": []
    },
    {
      "cell_type": "markdown",
      "source": [
        "**EDA**"
      ],
      "metadata": {
        "id": "Qhxz1fJjQLqA"
      }
    },
    {
      "cell_type": "code",
      "source": [
        "data.isnull().sum()"
      ],
      "metadata": {
        "colab": {
          "base_uri": "https://localhost:8080/"
        },
        "id": "f7QDkTzNUxnv",
        "outputId": "b3423c6b-1910-4a76-ea77-814584e69e6d"
      },
      "execution_count": 25,
      "outputs": [
        {
          "output_type": "execute_result",
          "data": {
            "text/plain": [
              "Id                        0\n",
              "ProductId                 0\n",
              "UserId                    0\n",
              "ProfileName               8\n",
              "HelpfulnessNumerator      0\n",
              "HelpfulnessDenominator    0\n",
              "Score                     0\n",
              "Time                      0\n",
              "Summary                   7\n",
              "Text                      0\n",
              "dtype: int64"
            ]
          },
          "metadata": {},
          "execution_count": 25
        }
      ]
    },
    {
      "cell_type": "code",
      "source": [
        "data.isna().any()"
      ],
      "metadata": {
        "colab": {
          "base_uri": "https://localhost:8080/"
        },
        "id": "vb_QRw3iUz7z",
        "outputId": "3a819a96-f90e-46d6-b61a-d201843ecabc"
      },
      "execution_count": 24,
      "outputs": [
        {
          "output_type": "execute_result",
          "data": {
            "text/plain": [
              "Id                        False\n",
              "ProductId                 False\n",
              "UserId                    False\n",
              "ProfileName                True\n",
              "HelpfulnessNumerator      False\n",
              "HelpfulnessDenominator    False\n",
              "Score                     False\n",
              "Time                      False\n",
              "Summary                    True\n",
              "Text                      False\n",
              "dtype: bool"
            ]
          },
          "metadata": {},
          "execution_count": 24
        }
      ]
    },
    {
      "cell_type": "code",
      "source": [
        "frac.isnull().sum()"
      ],
      "metadata": {
        "colab": {
          "base_uri": "https://localhost:8080/"
        },
        "id": "m4IjIrJoP5-r",
        "outputId": "cae67c92-da19-4a47-f7fc-7f77f3bfde5a"
      },
      "execution_count": 39,
      "outputs": [
        {
          "output_type": "execute_result",
          "data": {
            "text/plain": [
              "Id                        0\n",
              "ProductId                 0\n",
              "UserId                    0\n",
              "ProfileName               0\n",
              "HelpfulnessNumerator      0\n",
              "HelpfulnessDenominator    0\n",
              "Score                     0\n",
              "Time                      0\n",
              "Summary                   1\n",
              "Text                      0\n",
              "dtype: int64"
            ]
          },
          "metadata": {},
          "execution_count": 39
        }
      ]
    },
    {
      "cell_type": "code",
      "source": [
        "frac.isna().any()"
      ],
      "metadata": {
        "colab": {
          "base_uri": "https://localhost:8080/"
        },
        "id": "f51E3dKIQw0B",
        "outputId": "55874a09-16c0-44bd-8040-3c87fc1df0c7"
      },
      "execution_count": 40,
      "outputs": [
        {
          "output_type": "execute_result",
          "data": {
            "text/plain": [
              "Id                        False\n",
              "ProductId                 False\n",
              "UserId                    False\n",
              "ProfileName               False\n",
              "HelpfulnessNumerator      False\n",
              "HelpfulnessDenominator    False\n",
              "Score                     False\n",
              "Time                      False\n",
              "Summary                    True\n",
              "Text                      False\n",
              "dtype: bool"
            ]
          },
          "metadata": {},
          "execution_count": 40
        }
      ]
    },
    {
      "cell_type": "markdown",
      "source": [
        "- There are missing values in ProfileName and Summary columns in the data. \n",
        "- But if we check in our frac, there are no missing values in ProfileName. So no need to worry!\n",
        "- But there are some in Summary, but we will not be needing this column, so we will leave it as is it is."
      ],
      "metadata": {
        "id": "YZXjgZeuQmsN"
      }
    },
    {
      "cell_type": "code",
      "source": [
        "#check for duplicate values\n",
        "data[data.duplicated()].shape"
      ],
      "metadata": {
        "colab": {
          "base_uri": "https://localhost:8080/"
        },
        "id": "rLhwWGM5Qj1T",
        "outputId": "d6569502-a2c8-400e-aed7-8bd58b5c5c0c"
      },
      "execution_count": 11,
      "outputs": [
        {
          "output_type": "execute_result",
          "data": {
            "text/plain": [
              "(0, 10)"
            ]
          },
          "metadata": {},
          "execution_count": 11
        }
      ]
    },
    {
      "cell_type": "code",
      "source": [
        "data[data.duplicated()]"
      ],
      "metadata": {
        "colab": {
          "base_uri": "https://localhost:8080/",
          "height": 49
        },
        "id": "cxdpAL75SCKw",
        "outputId": "cee53d51-fdd9-41b6-98b7-9bb1cd83136e"
      },
      "execution_count": 13,
      "outputs": [
        {
          "output_type": "execute_result",
          "data": {
            "text/plain": [
              "Empty DataFrame\n",
              "Columns: [Id, ProductId, UserId, ProfileName, HelpfulnessNumerator, HelpfulnessDenominator, Score, Time, Summary, Text]\n",
              "Index: []"
            ],
            "text/html": [
              "\n",
              "  <div id=\"df-1fa161b0-2c5b-4731-8df0-bd304ac25ee9\">\n",
              "    <div class=\"colab-df-container\">\n",
              "      <div>\n",
              "<style scoped>\n",
              "    .dataframe tbody tr th:only-of-type {\n",
              "        vertical-align: middle;\n",
              "    }\n",
              "\n",
              "    .dataframe tbody tr th {\n",
              "        vertical-align: top;\n",
              "    }\n",
              "\n",
              "    .dataframe thead th {\n",
              "        text-align: right;\n",
              "    }\n",
              "</style>\n",
              "<table border=\"1\" class=\"dataframe\">\n",
              "  <thead>\n",
              "    <tr style=\"text-align: right;\">\n",
              "      <th></th>\n",
              "      <th>Id</th>\n",
              "      <th>ProductId</th>\n",
              "      <th>UserId</th>\n",
              "      <th>ProfileName</th>\n",
              "      <th>HelpfulnessNumerator</th>\n",
              "      <th>HelpfulnessDenominator</th>\n",
              "      <th>Score</th>\n",
              "      <th>Time</th>\n",
              "      <th>Summary</th>\n",
              "      <th>Text</th>\n",
              "    </tr>\n",
              "  </thead>\n",
              "  <tbody>\n",
              "  </tbody>\n",
              "</table>\n",
              "</div>\n",
              "      <button class=\"colab-df-convert\" onclick=\"convertToInteractive('df-1fa161b0-2c5b-4731-8df0-bd304ac25ee9')\"\n",
              "              title=\"Convert this dataframe to an interactive table.\"\n",
              "              style=\"display:none;\">\n",
              "        \n",
              "  <svg xmlns=\"http://www.w3.org/2000/svg\" height=\"24px\"viewBox=\"0 0 24 24\"\n",
              "       width=\"24px\">\n",
              "    <path d=\"M0 0h24v24H0V0z\" fill=\"none\"/>\n",
              "    <path d=\"M18.56 5.44l.94 2.06.94-2.06 2.06-.94-2.06-.94-.94-2.06-.94 2.06-2.06.94zm-11 1L8.5 8.5l.94-2.06 2.06-.94-2.06-.94L8.5 2.5l-.94 2.06-2.06.94zm10 10l.94 2.06.94-2.06 2.06-.94-2.06-.94-.94-2.06-.94 2.06-2.06.94z\"/><path d=\"M17.41 7.96l-1.37-1.37c-.4-.4-.92-.59-1.43-.59-.52 0-1.04.2-1.43.59L10.3 9.45l-7.72 7.72c-.78.78-.78 2.05 0 2.83L4 21.41c.39.39.9.59 1.41.59.51 0 1.02-.2 1.41-.59l7.78-7.78 2.81-2.81c.8-.78.8-2.07 0-2.86zM5.41 20L4 18.59l7.72-7.72 1.47 1.35L5.41 20z\"/>\n",
              "  </svg>\n",
              "      </button>\n",
              "      \n",
              "  <style>\n",
              "    .colab-df-container {\n",
              "      display:flex;\n",
              "      flex-wrap:wrap;\n",
              "      gap: 12px;\n",
              "    }\n",
              "\n",
              "    .colab-df-convert {\n",
              "      background-color: #E8F0FE;\n",
              "      border: none;\n",
              "      border-radius: 50%;\n",
              "      cursor: pointer;\n",
              "      display: none;\n",
              "      fill: #1967D2;\n",
              "      height: 32px;\n",
              "      padding: 0 0 0 0;\n",
              "      width: 32px;\n",
              "    }\n",
              "\n",
              "    .colab-df-convert:hover {\n",
              "      background-color: #E2EBFA;\n",
              "      box-shadow: 0px 1px 2px rgba(60, 64, 67, 0.3), 0px 1px 3px 1px rgba(60, 64, 67, 0.15);\n",
              "      fill: #174EA6;\n",
              "    }\n",
              "\n",
              "    [theme=dark] .colab-df-convert {\n",
              "      background-color: #3B4455;\n",
              "      fill: #D2E3FC;\n",
              "    }\n",
              "\n",
              "    [theme=dark] .colab-df-convert:hover {\n",
              "      background-color: #434B5C;\n",
              "      box-shadow: 0px 1px 3px 1px rgba(0, 0, 0, 0.15);\n",
              "      filter: drop-shadow(0px 1px 2px rgba(0, 0, 0, 0.3));\n",
              "      fill: #FFFFFF;\n",
              "    }\n",
              "  </style>\n",
              "\n",
              "      <script>\n",
              "        const buttonEl =\n",
              "          document.querySelector('#df-1fa161b0-2c5b-4731-8df0-bd304ac25ee9 button.colab-df-convert');\n",
              "        buttonEl.style.display =\n",
              "          google.colab.kernel.accessAllowed ? 'block' : 'none';\n",
              "\n",
              "        async function convertToInteractive(key) {\n",
              "          const element = document.querySelector('#df-1fa161b0-2c5b-4731-8df0-bd304ac25ee9');\n",
              "          const dataTable =\n",
              "            await google.colab.kernel.invokeFunction('convertToInteractive',\n",
              "                                                     [key], {});\n",
              "          if (!dataTable) return;\n",
              "\n",
              "          const docLinkHtml = 'Like what you see? Visit the ' +\n",
              "            '<a target=\"_blank\" href=https://colab.research.google.com/notebooks/data_table.ipynb>data table notebook</a>'\n",
              "            + ' to learn more about interactive tables.';\n",
              "          element.innerHTML = '';\n",
              "          dataTable['output_type'] = 'display_data';\n",
              "          await google.colab.output.renderOutput(dataTable, element);\n",
              "          const docLink = document.createElement('div');\n",
              "          docLink.innerHTML = docLinkHtml;\n",
              "          element.appendChild(docLink);\n",
              "        }\n",
              "      </script>\n",
              "    </div>\n",
              "  </div>\n",
              "  "
            ]
          },
          "metadata": {},
          "execution_count": 13
        }
      ]
    },
    {
      "cell_type": "markdown",
      "source": [
        "- No duplicated values as well."
      ],
      "metadata": {
        "id": "wZRIOSK7SbSv"
      }
    },
    {
      "cell_type": "code",
      "source": [
        "data.dtypes"
      ],
      "metadata": {
        "colab": {
          "base_uri": "https://localhost:8080/"
        },
        "id": "30CyHvKhSF7_",
        "outputId": "dbea0510-c069-4cf2-8546-af699325b647"
      },
      "execution_count": 15,
      "outputs": [
        {
          "output_type": "execute_result",
          "data": {
            "text/plain": [
              "Id                         int64\n",
              "ProductId                 object\n",
              "UserId                    object\n",
              "ProfileName               object\n",
              "HelpfulnessNumerator       int64\n",
              "HelpfulnessDenominator     int64\n",
              "Score                      int64\n",
              "Time                       int64\n",
              "Summary                   object\n",
              "Text                      object\n",
              "dtype: object"
            ]
          },
          "metadata": {},
          "execution_count": 15
        }
      ]
    },
    {
      "cell_type": "markdown",
      "source": [
        "- Data types of all columns are correct."
      ],
      "metadata": {
        "id": "l_o2WgxESiL2"
      }
    },
    {
      "cell_type": "code",
      "source": [
        "data.nunique()"
      ],
      "metadata": {
        "colab": {
          "base_uri": "https://localhost:8080/"
        },
        "id": "TQA3aebVSLfR",
        "outputId": "c64c5bc1-1831-4d9a-f0f5-9320e577f29f"
      },
      "execution_count": 16,
      "outputs": [
        {
          "output_type": "execute_result",
          "data": {
            "text/plain": [
              "Id                        187322\n",
              "ProductId                  23861\n",
              "UserId                    115965\n",
              "ProfileName               102431\n",
              "HelpfulnessNumerator         157\n",
              "HelpfulnessDenominator       164\n",
              "Score                          5\n",
              "Time                        2854\n",
              "Summary                   122521\n",
              "Text                      154260\n",
              "dtype: int64"
            ]
          },
          "metadata": {},
          "execution_count": 16
        }
      ]
    },
    {
      "cell_type": "code",
      "source": [
        "frac.nunique()"
      ],
      "metadata": {
        "colab": {
          "base_uri": "https://localhost:8080/"
        },
        "id": "DKKJX8vcVJP6",
        "outputId": "e50bfbfc-caf2-49c6-b46b-c5d43f9fd090"
      },
      "execution_count": 41,
      "outputs": [
        {
          "output_type": "execute_result",
          "data": {
            "text/plain": [
              "Id                        562\n",
              "ProductId                 499\n",
              "UserId                    561\n",
              "ProfileName               558\n",
              "HelpfulnessNumerator       20\n",
              "HelpfulnessDenominator     24\n",
              "Score                       5\n",
              "Time                      471\n",
              "Summary                   545\n",
              "Text                      561\n",
              "dtype: int64"
            ]
          },
          "metadata": {},
          "execution_count": 41
        }
      ]
    },
    {
      "cell_type": "code",
      "source": [
        "frac['Score'].value_counts().sort_index()"
      ],
      "metadata": {
        "colab": {
          "base_uri": "https://localhost:8080/"
        },
        "id": "FB_w8jwGUCjO",
        "outputId": "9d0f51c3-53d7-44b0-eff1-390b863a169d"
      },
      "execution_count": 42,
      "outputs": [
        {
          "output_type": "execute_result",
          "data": {
            "text/plain": [
              "1     60\n",
              "2     28\n",
              "3     44\n",
              "4     92\n",
              "5    338\n",
              "Name: Score, dtype: int64"
            ]
          },
          "metadata": {},
          "execution_count": 42
        }
      ]
    },
    {
      "cell_type": "code",
      "source": [
        "ax = frac['Score'].value_counts().sort_index().plot(kind='bar',\n",
        "          title='Count of Reviews by Stars',\n",
        "          figsize=(10, 5))\n",
        "ax.set_xlabel('Review Stars')\n",
        "plt.show()"
      ],
      "metadata": {
        "colab": {
          "base_uri": "https://localhost:8080/",
          "height": 350
        },
        "id": "HzI6mPOzSUrn",
        "outputId": "4f56a926-7979-400d-bdd4-5f421cef7a4b"
      },
      "execution_count": 43,
      "outputs": [
        {
          "output_type": "display_data",
          "data": {
            "text/plain": [
              "<Figure size 720x360 with 1 Axes>"
            ],
            "image/png": "[encoded data removed]"
          },
          "metadata": {
            "needs_background": "light"
          }
        }
      ]
    },
    {
      "cell_type": "markdown",
      "source": [
        "- Majority of cx have positive sentiment according to the Reviews by stars."
      ],
      "metadata": {
        "id": "0p5Ysg6MXswo"
      }
    },
    {
      "cell_type": "markdown",
      "source": [
        "**Basic NLTK**"
      ],
      "metadata": {
        "id": "zBCW8O0rVw_j"
      }
    },
    {
      "cell_type": "code",
      "source": [
        "example = frac['Text'][100]\n",
        "print(example)"
      ],
      "metadata": {
        "colab": {
          "base_uri": "https://localhost:8080/"
        },
        "id": "EO5uyBndT_2S",
        "outputId": "e0328def-6966-462b-8bc1-de68f73e664b"
      },
      "execution_count": 45,
      "outputs": [
        {
          "output_type": "stream",
          "name": "stdout",
          "text": [
            "After an awful experience with those vile tasting Grove Square wannabee Keurig cups, I was very hesitant to try anything but authentic 'K-Cup (tm)' coffee portions.  I had been eyeballing these San Francisco Bay brand here on Amazon for awhile, but hadn't purchased them.  When I saw them at Costco (by the way, they sell them in a box of 80 for about $25), I decided to take the plunge.  And they're not bad.<br /><br />As mentioned by others, the 'cup' design is essentially a paper filter filled with coffee grounds and then attached to the underside of a plastic ring which fits into the Keurig brewer.  The top is sealed off with the traditional thick foil which is pierced by the top needle of the Keurig brewer.  The bottom needle which pierces the bottom of the standard K Cups does not even come into play with these as the water is forced into the grounds.  The coffee passes through from the filter and then directly out the bottom of the  k cup holder and into the coffee cup.<br /><br />Like every traditional K-Cup these are a bit on the weak side, especially as you increase the cup size on your brewer, but I usually brew at the 8 oz setting and I thought these were acceptable.  It does have the (for lack of a better word) 'burnt' French Roast flavor which is surprisinly absent from most so-called 'dark roast' K-Cups and that is much appreciated.<br /><br />My only issues with these cups are the freshness issues.  Since the coffee is basicaly hanging out in the open air (only the paper filter separates it from the outside world) they will change taste very quickly.  I saw someone mention that the Amazon package has them in individual bags of 12.  The bos from Costco has them in individual bags of 8, so of course the manufacturer is aware of the issue of them going bad more quickly.  I personally would prefer they be bagged with quantities no more than 4 or 5 - the quantity I would use up in 2 or 3 days.  I don't have one, I think they look tacky, but if you have one of those 'Carousels' on your counter to display your k cups, I think this product would be completely incompatible with it.  My other issue is that since this coffee drips directly from the filter into the k cup holder on the machine, the holder will have to be washed regularly (probably daily) lest the coffee oils build up and change the final coffee taste even more..<br /><br />I'm generally happy with this product though, and probably will buy it again. with proper storage in an airtight container, I think the economical price evens out the freshness issues.\n"
          ]
        }
      ]
    },
    {
      "cell_type": "code",
      "source": [
        "#Break sentence into each word\n",
        "nltk.download('punkt')\n",
        "tokens = nltk.word_tokenize(example)\n",
        "tokens[:10]"
      ],
      "metadata": {
        "colab": {
          "base_uri": "https://localhost:8080/"
        },
        "id": "xTBZb497V46T",
        "outputId": "14e61c9e-ad4d-4c7c-b3ed-d7a82ec48bae"
      },
      "execution_count": 48,
      "outputs": [
        {
          "output_type": "stream",
          "name": "stderr",
          "text": [
            "[nltk_data] Downloading package punkt to /root/nltk_data...\n",
            "[nltk_data]   Package punkt is already up-to-date!\n"
          ]
        },
        {
          "output_type": "execute_result",
          "data": {
            "text/plain": [
              "['After',\n",
              " 'an',\n",
              " 'awful',\n",
              " 'experience',\n",
              " 'with',\n",
              " 'those',\n",
              " 'vile',\n",
              " 'tasting',\n",
              " 'Grove',\n",
              " 'Square']"
            ]
          },
          "metadata": {},
          "execution_count": 48
        }
      ]
    },
    {
      "cell_type": "code",
      "source": [
        "nltk.download('averaged_perceptron_tagger')"
      ],
      "metadata": {
        "colab": {
          "base_uri": "https://localhost:8080/"
        },
        "id": "Xc5yTLSbZBrk",
        "outputId": "bde45e69-a2ff-4cdf-97dc-3ad12b5755ea"
      },
      "execution_count": 50,
      "outputs": [
        {
          "output_type": "stream",
          "name": "stderr",
          "text": [
            "[nltk_data] Downloading package averaged_perceptron_tagger to\n",
            "[nltk_data]     /root/nltk_data...\n",
            "[nltk_data]   Unzipping taggers/averaged_perceptron_tagger.zip.\n"
          ]
        },
        {
          "output_type": "execute_result",
          "data": {
            "text/plain": [
              "True"
            ]
          },
          "metadata": {},
          "execution_count": 50
        }
      ]
    },
    {
      "cell_type": "code",
      "source": [
        "#give part of speech tagging to each word \n",
        "tagged = nltk.pos_tag(tokens)\n",
        "tagged[:10]"
      ],
      "metadata": {
        "colab": {
          "base_uri": "https://localhost:8080/"
        },
        "id": "z0tlFxPRYKYu",
        "outputId": "49ae50e3-63c7-422c-fcfe-6c82a6596501"
      },
      "execution_count": 52,
      "outputs": [
        {
          "output_type": "execute_result",
          "data": {
            "text/plain": [
              "[('After', 'IN'),\n",
              " ('an', 'DT'),\n",
              " ('awful', 'JJ'),\n",
              " ('experience', 'NN'),\n",
              " ('with', 'IN'),\n",
              " ('those', 'DT'),\n",
              " ('vile', 'JJ'),\n",
              " ('tasting', 'VBG'),\n",
              " ('Grove', 'NNP'),\n",
              " ('Square', 'NNP')]"
            ]
          },
          "metadata": {},
          "execution_count": 52
        }
      ]
    },
    {
      "cell_type": "code",
      "source": [
        "nltk.download('maxent_ne_chunker')"
      ],
      "metadata": {
        "colab": {
          "base_uri": "https://localhost:8080/"
        },
        "id": "CpP1HHWqZnYX",
        "outputId": "254b3f5a-50fc-4172-b1bf-3d3d66cecc9a"
      },
      "execution_count": 54,
      "outputs": [
        {
          "output_type": "stream",
          "name": "stderr",
          "text": [
            "[nltk_data] Downloading package maxent_ne_chunker to\n",
            "[nltk_data]     /root/nltk_data...\n",
            "[nltk_data]   Unzipping chunkers/maxent_ne_chunker.zip.\n"
          ]
        },
        {
          "output_type": "execute_result",
          "data": {
            "text/plain": [
              "True"
            ]
          },
          "metadata": {},
          "execution_count": 54
        }
      ]
    },
    {
      "cell_type": "code",
      "source": [
        "nltk.download('words')"
      ],
      "metadata": {
        "colab": {
          "base_uri": "https://localhost:8080/"
        },
        "id": "WCN580-5Zsaj",
        "outputId": "fdcf061e-9481-4c8a-f056-f1e92592bf55"
      },
      "execution_count": 56,
      "outputs": [
        {
          "output_type": "stream",
          "name": "stderr",
          "text": [
            "[nltk_data] Downloading package words to /root/nltk_data...\n",
            "[nltk_data]   Unzipping corpora/words.zip.\n"
          ]
        },
        {
          "output_type": "execute_result",
          "data": {
            "text/plain": [
              "True"
            ]
          },
          "metadata": {},
          "execution_count": 56
        }
      ]
    },
    {
      "cell_type": "code",
      "source": [
        "entities = nltk.chunk.ne_chunk(tagged)\n",
        "entities.pprint()"
      ],
      "metadata": {
        "colab": {
          "base_uri": "https://localhost:8080/"
        },
        "id": "8wL8CKarY9-N",
        "outputId": "db4d85ba-18f3-4779-ee02-367660fa3d7e"
      },
      "execution_count": 57,
      "outputs": [
        {
          "output_type": "stream",
          "name": "stdout",
          "text": [
            "(S\n",
            "  After/IN\n",
            "  an/DT\n",
            "  awful/JJ\n",
            "  experience/NN\n",
            "  with/IN\n",
            "  those/DT\n",
            "  vile/JJ\n",
            "  tasting/VBG\n",
            "  (PERSON Grove/NNP Square/NNP)\n",
            "  wannabee/VBZ\n",
            "  (PERSON Keurig/NNP)\n",
            "  cups/NN\n",
            "  ,/,\n",
            "  I/PRP\n",
            "  was/VBD\n",
            "  very/RB\n",
            "  hesitant/JJ\n",
            "  to/TO\n",
            "  try/VB\n",
            "  anything/NN\n",
            "  but/CC\n",
            "  authentic/JJ\n",
            "  '/''\n",
            "  K-Cup/NNP\n",
            "  (/(\n",
            "  tm/NN\n",
            "  )/)\n",
            "  '/POS\n",
            "  coffee/NN\n",
            "  portions/NNS\n",
            "  ./.\n",
            "  I/PRP\n",
            "  had/VBD\n",
            "  been/VBN\n",
            "  eyeballing/VBG\n",
            "  these/DT\n",
            "  San/NNP\n",
            "  (PERSON Francisco/NNP Bay/NNP)\n",
            "  brand/NN\n",
            "  here/RB\n",
            "  on/IN\n",
            "  (ORGANIZATION Amazon/NNP)\n",
            "  for/IN\n",
            "  awhile/NN\n",
            "  ,/,\n",
            "  but/CC\n",
            "  had/VBD\n",
            "  n't/RB\n",
            "  purchased/VBN\n",
            "  them/PRP\n",
            "  ./.\n",
            "  When/WRB\n",
            "  I/PRP\n",
            "  saw/VBD\n",
            "  them/PRP\n",
            "  at/IN\n",
            "  (GPE Costco/NNP)\n",
            "  (/(\n",
            "  by/IN\n",
            "  the/DT\n",
            "  way/NN\n",
            "  ,/,\n",
            "  they/PRP\n",
            "  sell/VBP\n",
            "  them/PRP\n",
            "  in/IN\n",
            "  a/DT\n",
            "  box/NN\n",
            "  of/IN\n",
            "  80/CD\n",
            "  for/IN\n",
            "  about/RB\n",
            "  $/$\n",
            "  25/CD\n",
            "  )/)\n",
            "  ,/,\n",
            "  I/PRP\n",
            "  decided/VBD\n",
            "  to/TO\n",
            "  take/VB\n",
            "  the/DT\n",
            "  plunge/NN\n",
            "  ./.\n",
            "  And/CC\n",
            "  they/PRP\n",
            "  're/VBP\n",
            "  not/RB\n",
            "  bad./JJ\n",
            "  </NNP\n",
            "  br/NN\n",
            "  //NNP\n",
            "  >/NNP\n",
            "  </NNP\n",
            "  br/NN\n",
            "  //NNP\n",
            "  >/NNP\n",
            "  As/IN\n",
            "  mentioned/VBN\n",
            "  by/IN\n",
            "  others/NNS\n",
            "  ,/,\n",
            "  the/DT\n",
            "  'cup/NNP\n",
            "  '/POS\n",
            "  design/NN\n",
            "  is/VBZ\n",
            "  essentially/RB\n",
            "  a/DT\n",
            "  paper/NN\n",
            "  filter/NN\n",
            "  filled/VBN\n",
            "  with/IN\n",
            "  coffee/NN\n",
            "  grounds/NNS\n",
            "  and/CC\n",
            "  then/RB\n",
            "  attached/VBD\n",
            "  to/TO\n",
            "  the/DT\n",
            "  underside/NN\n",
            "  of/IN\n",
            "  a/DT\n",
            "  plastic/NN\n",
            "  ring/NN\n",
            "  which/WDT\n",
            "  fits/VBZ\n",
            "  into/IN\n",
            "  the/DT\n",
            "  (GPE Keurig/NNP)\n",
            "  brewer/NN\n",
            "  ./.\n",
            "  The/DT\n",
            "  top/NN\n",
            "  is/VBZ\n",
            "  sealed/VBN\n",
            "  off/RP\n",
            "  with/IN\n",
            "  the/DT\n",
            "  traditional/JJ\n",
            "  thick/NN\n",
            "  foil/NN\n",
            "  which/WDT\n",
            "  is/VBZ\n",
            "  pierced/VBN\n",
            "  by/IN\n",
            "  the/DT\n",
            "  top/JJ\n",
            "  needle/NN\n",
            "  of/IN\n",
            "  the/DT\n",
            "  (GPE Keurig/NNP)\n",
            "  brewer/NN\n",
            "  ./.\n",
            "  The/DT\n",
            "  bottom/NN\n",
            "  needle/NN\n",
            "  which/WDT\n",
            "  pierces/VBZ\n",
            "  the/DT\n",
            "  bottom/NN\n",
            "  of/IN\n",
            "  the/DT\n",
            "  standard/JJ\n",
            "  K/NNP\n",
            "  Cups/NNP\n",
            "  does/VBZ\n",
            "  not/RB\n",
            "  even/RB\n",
            "  come/VB\n",
            "  into/IN\n",
            "  play/NN\n",
            "  with/IN\n",
            "  these/DT\n",
            "  as/IN\n",
            "  the/DT\n",
            "  water/NN\n",
            "  is/VBZ\n",
            "  forced/VBN\n",
            "  into/IN\n",
            "  the/DT\n",
            "  grounds/NNS\n",
            "  ./.\n",
            "  The/DT\n",
            "  coffee/NN\n",
            "  passes/VBZ\n",
            "  through/IN\n",
            "  from/IN\n",
            "  the/DT\n",
            "  filter/NN\n",
            "  and/CC\n",
            "  then/RB\n",
            "  directly/RB\n",
            "  out/IN\n",
            "  the/DT\n",
            "  bottom/NN\n",
            "  of/IN\n",
            "  the/DT\n",
            "  k/JJ\n",
            "  cup/NN\n",
            "  holder/NN\n",
            "  and/CC\n",
            "  into/IN\n",
            "  the/DT\n",
            "  coffee/NN\n",
            "  cup./NN\n",
            "  </NNP\n",
            "  br/NN\n",
            "  //NNP\n",
            "  >/NNP\n",
            "  </NNP\n",
            "  br/NN\n",
            "  //NNP\n",
            "  >/NNP\n",
            "  Like/IN\n",
            "  every/DT\n",
            "  traditional/JJ\n",
            "  K-Cup/NNP\n",
            "  these/DT\n",
            "  are/VBP\n",
            "  a/DT\n",
            "  bit/NN\n",
            "  on/IN\n",
            "  the/DT\n",
            "  weak/JJ\n",
            "  side/NN\n",
            "  ,/,\n",
            "  especially/RB\n",
            "  as/IN\n",
            "  you/PRP\n",
            "  increase/VBP\n",
            "  the/DT\n",
            "  cup/JJ\n",
            "  size/NN\n",
            "  on/IN\n",
            "  your/PRP$\n",
            "  brewer/NN\n",
            "  ,/,\n",
            "  but/CC\n",
            "  I/PRP\n",
            "  usually/RB\n",
            "  brew/VBD\n",
            "  at/IN\n",
            "  the/DT\n",
            "  8/CD\n",
            "  oz/NN\n",
            "  setting/NN\n",
            "  and/CC\n",
            "  I/PRP\n",
            "  thought/VBD\n",
            "  these/DT\n",
            "  were/VBD\n",
            "  acceptable/JJ\n",
            "  ./.\n",
            "  It/PRP\n",
            "  does/VBZ\n",
            "  have/VB\n",
            "  the/DT\n",
            "  (/(\n",
            "  for/IN\n",
            "  lack/NN\n",
            "  of/IN\n",
            "  a/DT\n",
            "  better/JJR\n",
            "  word/NN\n",
            "  )/)\n",
            "  'burnt/POS\n",
            "  '/''\n",
            "  (GPE French/JJ)\n",
            "  Roast/NNP\n",
            "  flavor/NN\n",
            "  which/WDT\n",
            "  is/VBZ\n",
            "  surprisinly/RB\n",
            "  absent/JJ\n",
            "  from/IN\n",
            "  most/JJS\n",
            "  so-called/JJ\n",
            "  'dark/NN\n",
            "  roast/NN\n",
            "  '/POS\n",
            "  K-Cups/NNP\n",
            "  and/CC\n",
            "  that/DT\n",
            "  is/VBZ\n",
            "  much/JJ\n",
            "  appreciated./IN\n",
            "  </JJ\n",
            "  br/NN\n",
            "  //NNP\n",
            "  >/NNP\n",
            "  </NNP\n",
            "  br/NN\n",
            "  //NNP\n",
            "  >/NNP\n",
            "  My/NNP\n",
            "  only/RB\n",
            "  issues/NNS\n",
            "  with/IN\n",
            "  these/DT\n",
            "  cups/NNS\n",
            "  are/VBP\n",
            "  the/DT\n",
            "  freshness/JJ\n",
            "  issues/NNS\n",
            "  ./.\n",
            "  Since/IN\n",
            "  the/DT\n",
            "  coffee/NN\n",
            "  is/VBZ\n",
            "  basicaly/JJ\n",
            "  hanging/VBG\n",
            "  out/RP\n",
            "  in/IN\n",
            "  the/DT\n",
            "  open/JJ\n",
            "  air/NN\n",
            "  (/(\n",
            "  only/RB\n",
            "  the/DT\n",
            "  paper/NN\n",
            "  filter/NN\n",
            "  separates/VBZ\n",
            "  it/PRP\n",
            "  from/IN\n",
            "  the/DT\n",
            "  outside/JJ\n",
            "  world/NN\n",
            "  )/)\n",
            "  they/PRP\n",
            "  will/MD\n",
            "  change/VB\n",
            "  taste/NN\n",
            "  very/RB\n",
            "  quickly/RB\n",
            "  ./.\n",
            "  I/PRP\n",
            "  saw/VBD\n",
            "  someone/NN\n",
            "  mention/NN\n",
            "  that/IN\n",
            "  the/DT\n",
            "  (ORGANIZATION Amazon/NNP)\n",
            "  package/NN\n",
            "  has/VBZ\n",
            "  them/PRP\n",
            "  in/IN\n",
            "  individual/JJ\n",
            "  bags/NNS\n",
            "  of/IN\n",
            "  12/CD\n",
            "  ./.\n",
            "  The/DT\n",
            "  bos/NN\n",
            "  from/IN\n",
            "  (GPE Costco/NNP)\n",
            "  has/VBZ\n",
            "  them/PRP\n",
            "  in/IN\n",
            "  individual/JJ\n",
            "  bags/NNS\n",
            "  of/IN\n",
            "  8/CD\n",
            "  ,/,\n",
            "  so/RB\n",
            "  of/IN\n",
            "  course/NN\n",
            "  the/DT\n",
            "  manufacturer/NN\n",
            "  is/VBZ\n",
            "  aware/JJ\n",
            "  of/IN\n",
            "  the/DT\n",
            "  issue/NN\n",
            "  of/IN\n",
            "  them/PRP\n",
            "  going/VBG\n",
            "  bad/JJ\n",
            "  more/RBR\n",
            "  quickly/RB\n",
            "  ./.\n",
            "  I/PRP\n",
            "  personally/RB\n",
            "  would/MD\n",
            "  prefer/VB\n",
            "  they/PRP\n",
            "  be/VB\n",
            "  bagged/VBN\n",
            "  with/IN\n",
            "  quantities/NNS\n",
            "  no/DT\n",
            "  more/JJR\n",
            "  than/IN\n",
            "  4/CD\n",
            "  or/CC\n",
            "  5/CD\n",
            "  -/:\n",
            "  the/DT\n",
            "  quantity/NN\n",
            "  I/PRP\n",
            "  would/MD\n",
            "  use/VB\n",
            "  up/RP\n",
            "  in/IN\n",
            "  2/CD\n",
            "  or/CC\n",
            "  3/CD\n",
            "  days/NNS\n",
            "  ./.\n",
            "  I/PRP\n",
            "  do/VBP\n",
            "  n't/RB\n",
            "  have/VB\n",
            "  one/CD\n",
            "  ,/,\n",
            "  I/PRP\n",
            "  think/VBP\n",
            "  they/PRP\n",
            "  look/VBP\n",
            "  tacky/JJ\n",
            "  ,/,\n",
            "  but/CC\n",
            "  if/IN\n",
            "  you/PRP\n",
            "  have/VBP\n",
            "  one/CD\n",
            "  of/IN\n",
            "  those/DT\n",
            "  'Carousels/NNS\n",
            "  '/POS\n",
            "  on/IN\n",
            "  your/PRP$\n",
            "  counter/NN\n",
            "  to/TO\n",
            "  display/VB\n",
            "  your/PRP$\n",
            "  k/NN\n",
            "  cups/NNS\n",
            "  ,/,\n",
            "  I/PRP\n",
            "  think/VBP\n",
            "  this/DT\n",
            "  product/NN\n",
            "  would/MD\n",
            "  be/VB\n",
            "  completely/RB\n",
            "  incompatible/JJ\n",
            "  with/IN\n",
            "  it/PRP\n",
            "  ./.\n",
            "  My/PRP$\n",
            "  other/JJ\n",
            "  issue/NN\n",
            "  is/VBZ\n",
            "  that/IN\n",
            "  since/IN\n",
            "  this/DT\n",
            "  coffee/NN\n",
            "  drips/VBZ\n",
            "  directly/RB\n",
            "  from/IN\n",
            "  the/DT\n",
            "  filter/NN\n",
            "  into/IN\n",
            "  the/DT\n",
            "  k/JJ\n",
            "  cup/NN\n",
            "  holder/NN\n",
            "  on/IN\n",
            "  the/DT\n",
            "  machine/NN\n",
            "  ,/,\n",
            "  the/DT\n",
            "  holder/NN\n",
            "  will/MD\n",
            "  have/VB\n",
            "  to/TO\n",
            "  be/VB\n",
            "  washed/VBN\n",
            "  regularly/RB\n",
            "  (/(\n",
            "  probably/RB\n",
            "  daily/RB\n",
            "  )/)\n",
            "  lest/JJS\n",
            "  the/DT\n",
            "  coffee/NN\n",
            "  oils/NNS\n",
            "  build/VBP\n",
            "  up/RP\n",
            "  and/CC\n",
            "  change/VB\n",
            "  the/DT\n",
            "  final/JJ\n",
            "  coffee/NN\n",
            "  taste/NN\n",
            "  even/RB\n",
            "  more/RBR\n",
            "  ../JJ\n",
            "  </NNP\n",
            "  br/NN\n",
            "  //NNP\n",
            "  >/NNP\n",
            "  </NNP\n",
            "  br/NN\n",
            "  //NNP\n",
            "  >/NNP\n",
            "  I/PRP\n",
            "  'm/VBP\n",
            "  generally/RB\n",
            "  happy/JJ\n",
            "  with/IN\n",
            "  this/DT\n",
            "  product/NN\n",
            "  though/IN\n",
            "  ,/,\n",
            "  and/CC\n",
            "  probably/RB\n",
            "  will/MD\n",
            "  buy/VB\n",
            "  it/PRP\n",
            "  again/RB\n",
            "  ./.\n",
            "  with/IN\n",
            "  proper/JJ\n",
            "  storage/NN\n",
            "  in/IN\n",
            "  an/DT\n",
            "  airtight/JJ\n",
            "  container/NN\n",
            "  ,/,\n",
            "  I/PRP\n",
            "  think/VBP\n",
            "  the/DT\n",
            "  economical/JJ\n",
            "  price/NN\n",
            "  evens/NNS\n",
            "  out/RP\n",
            "  the/DT\n",
            "  freshness/NN\n",
            "  issues/NNS\n",
            "  ./.)\n"
          ]
        }
      ]
    },
    {
      "cell_type": "markdown",
      "source": [
        "VADER - \n",
        "\n",
        "- We remove the stopwords.\n",
        "- Score each word in the setence to get a total score. \n",
        "- Sentences are given scores in neg(negative), neu(neutral), pos(positive)."
      ],
      "metadata": {
        "id": "WHwJEv67aTrt"
      }
    },
    {
      "cell_type": "code",
      "source": [
        "nltk.download('vader_lexicon')\n",
        "from nltk.sentiment import SentimentIntensityAnalyzer\n",
        "from tqdm.notebook import tqdm\n",
        "\n",
        "sia = SentimentIntensityAnalyzer()"
      ],
      "metadata": {
        "colab": {
          "base_uri": "https://localhost:8080/"
        },
        "id": "ecgAJ546Ziy1",
        "outputId": "8b34fb62-8a37-4f3b-fea4-ea4a33b4ac33"
      },
      "execution_count": 59,
      "outputs": [
        {
          "output_type": "stream",
          "name": "stderr",
          "text": [
            "[nltk_data] Downloading package vader_lexicon to /root/nltk_data...\n"
          ]
        }
      ]
    },
    {
      "cell_type": "code",
      "source": [
        "#examples\n",
        "sia.polarity_scores(\"I am very happy\")"
      ],
      "metadata": {
        "colab": {
          "base_uri": "https://localhost:8080/"
        },
        "id": "hnSuVk7Xa9Hd",
        "outputId": "b1fcdac9-16dc-4647-e80b-26b74a45eda2"
      },
      "execution_count": 60,
      "outputs": [
        {
          "output_type": "execute_result",
          "data": {
            "text/plain": [
              "{'compound': 0.6115, 'neg': 0.0, 'neu': 0.334, 'pos': 0.666}"
            ]
          },
          "metadata": {},
          "execution_count": 60
        }
      ]
    },
    {
      "cell_type": "markdown",
      "source": [
        "- Compound is the aggreagte of pos, neu, neg ranging b/w -1 to 1 (neg to pos)."
      ],
      "metadata": {
        "id": "Uf48EUjEbtZh"
      }
    },
    {
      "cell_type": "code",
      "source": [
        "sia.polarity_scores(\"This is disappointing\")"
      ],
      "metadata": {
        "colab": {
          "base_uri": "https://localhost:8080/"
        },
        "id": "pbj9EceIbsKm",
        "outputId": "bc68bd63-7e3d-4060-c796-618a0971b1b7"
      },
      "execution_count": 61,
      "outputs": [
        {
          "output_type": "execute_result",
          "data": {
            "text/plain": [
              "{'compound': -0.4939, 'neg': 0.615, 'neu': 0.385, 'pos': 0.0}"
            ]
          },
          "metadata": {},
          "execution_count": 61
        }
      ]
    },
    {
      "cell_type": "code",
      "source": [
        "#Let us try this on one of the comments in our data\n",
        "sia.polarity_scores(example)"
      ],
      "metadata": {
        "colab": {
          "base_uri": "https://localhost:8080/"
        },
        "id": "kt0dybyMbp-A",
        "outputId": "c705c1d4-05bb-4e01-ca95-47ecf35b35e5"
      },
      "execution_count": 62,
      "outputs": [
        {
          "output_type": "execute_result",
          "data": {
            "text/plain": [
              "{'compound': 0.3069, 'neg': 0.052, 'neu': 0.891, 'pos': 0.057}"
            ]
          },
          "metadata": {},
          "execution_count": 62
        }
      ]
    },
    {
      "cell_type": "code",
      "source": [
        "example1 = frac['Text'][20]\n",
        "print(example1)\n",
        "sia.polarity_scores(example1)"
      ],
      "metadata": {
        "colab": {
          "base_uri": "https://localhost:8080/"
        },
        "id": "xLlhOkKYcK74",
        "outputId": "bed7d236-00b6-465b-ae50-a6e6fcbbb378"
      },
      "execution_count": 67,
      "outputs": [
        {
          "output_type": "stream",
          "name": "stdout",
          "text": [
            "My dog suffers from an auto immune disorder which causes him to have to take a lot of meds. He also is on a novel protein diet and can't have many \"normal\" dog treats or food. After trying a million ways to get those pills in him I found these in the reduced allergen flavor. Yes, they stink horribly. But suddenly meal time is a treat and I couldn't be happier! Just wish more came in a bag and they were cheaper.\n"
          ]
        },
        {
          "output_type": "execute_result",
          "data": {
            "text/plain": [
              "{'compound': 0.2211, 'neg': 0.13, 'neu': 0.729, 'pos': 0.14}"
            ]
          },
          "metadata": {},
          "execution_count": 67
        }
      ]
    },
    {
      "cell_type": "code",
      "source": [
        "#Run polarity score on the entire data\n",
        "res = {}\n",
        "for i, row in tqdm(frac.iterrows(), total=len(frac)):\n",
        "  text = row['Text']\n",
        "  myid = row['Id']\n",
        "  res[myid] = sia.polarity_scores(text)"
      ],
      "metadata": {
        "colab": {
          "base_uri": "https://localhost:8080/",
          "height": 49,
          "referenced_widgets": [
            "e0c27e74df824bd2a42f469fba79217c",
            "206d5568374c424aa08ac37df7d5cfab",
            "76414bdc405b44c7894345b52d20ac03",
            "0665517113cf4d06aee94eda74e5ae0a",
            "43071ab014cf45369c4559d2b06c6903",
            "770deaf60014464eb68113a9fc56e285",
            "2483cd881e524c5c9298cec06aeaff3d",
            "b427069369294114a2fd7946f7130090",
            "6b69a9994d4e45d996d7d3e5638ab410",
            "15bbd510f829451cadf6ea49180f78e4",
            "b611874a9e77464da4a81d34ed383688"
          ]
        },
        "id": "wsDx6qO8ckn2",
        "outputId": "e72e8a92-d47d-4d56-de39-77ede52309ef"
      },
      "execution_count": 70,
      "outputs": [
        {
          "output_type": "display_data",
          "data": {
            "text/plain": [
              "  0%|          | 0/562 [00:00<?, ?it/s]"
            ],
            "application/vnd.jupyter.widget-view+json": {
              "version_major": 2,
              "version_minor": 0,
              "model_id": "e0c27e74df824bd2a42f469fba79217c"
            }
          },
          "metadata": {}
        }
      ]
    },
    {
      "cell_type": "code",
      "source": [
        "#combine the polarity scores and frac \n",
        "vaders = pd.DataFrame(res).T\n",
        "vaders = vaders.reset_index().rename(columns = {'index': 'Id'})\n",
        "vaders = vaders.merge(frac, how = 'left')"
      ],
      "metadata": {
        "id": "gkbpwlsVe0MN"
      },
      "execution_count": 73,
      "outputs": []
    },
    {
      "cell_type": "code",
      "source": [
        "vaders.head()"
      ],
      "metadata": {
        "colab": {
          "base_uri": "https://localhost:8080/",
          "height": 722
        },
        "id": "vcJ6a_ejfXiS",
        "outputId": "84bf8f4c-ce41-49ba-b0b1-a2e39861f8d8"
      },
      "execution_count": 74,
      "outputs": [
        {
          "output_type": "execute_result",
          "data": {
            "text/plain": [
              "       Id    neg    neu    pos  compound   ProductId          UserId  \\\n",
              "0   86829  0.000  0.838  0.162    0.8008  B0006SKCVI  A2B7DVDHUTUT5S   \n",
              "1   59278  0.067  0.613  0.319    0.8481  B0076RE7IG  A1ARCVHHCTJFBV   \n",
              "2  117315  0.000  0.746  0.254    0.8176  B005R2GG4K  A13D7X0H3A5E6T   \n",
              "3   57944  0.000  0.693  0.307    0.8555  B000AYDHTM  A2JHI62SYO24JW   \n",
              "4  126491  0.019  0.780  0.202    0.9254  B000XHTD1W  A3PMD5PUXYZXM3   \n",
              "\n",
              "                           ProfileName  HelpfulnessNumerator  \\\n",
              "0                           Abe Froman                     1   \n",
              "1                   Melissa A. Headley                     1   \n",
              "2                      Kyle R. Johnson                     0   \n",
              "3       O. A. Holden Jr. \"VaGentleman\"                     1   \n",
              "4  Beverly J. Cowling \"songbird_63366\"                     3   \n",
              "\n",
              "   HelpfulnessDenominator  Score        Time  \\\n",
              "0                       1      5  1284422400   \n",
              "1                       1      4  1329350400   \n",
              "2                       0      5  1350950400   \n",
              "3                       1      5  1226793600   \n",
              "4                       5      5  1249948800   \n",
              "\n",
              "                               Summary  \\\n",
              "0                             Giggity!   \n",
              "1                                Yummy   \n",
              "2                          Good Coffee   \n",
              "3  Lemon & Ginger in the same cookie!!   \n",
              "4                best sauce ever sold!   \n",
              "\n",
              "                                                Text  \n",
              "0  In the infamous words of Sir Glenn Quagmire; \"...  \n",
              "1  Man these things are good. I bought a pack at ...  \n",
              "2  The coffee was a good price and of excellent q...  \n",
              "3  I love lemon cookies and I love ginger cookies...  \n",
              "4  With the exception of an old sauce made by Ada...  "
            ],
            "text/html": [
              "\n",
              "  <div id=\"df-60f85def-3711-498f-8d19-2d2673571399\">\n",
              "    <div class=\"colab-df-container\">\n",
              "      <div>\n",
              "<style scoped>\n",
              "    .dataframe tbody tr th:only-of-type {\n",
              "        vertical-align: middle;\n",
              "    }\n",
              "\n",
              "    .dataframe tbody tr th {\n",
              "        vertical-align: top;\n",
              "    }\n",
              "\n",
              "    .dataframe thead th {\n",
              "        text-align: right;\n",
              "    }\n",
              "</style>\n",
              "<table border=\"1\" class=\"dataframe\">\n",
              "  <thead>\n",
              "    <tr style=\"text-align: right;\">\n",
              "      <th></th>\n",
              "      <th>Id</th>\n",
              "      <th>neg</th>\n",
              "      <th>neu</th>\n",
              "      <th>pos</th>\n",
              "      <th>compound</th>\n",
              "      <th>ProductId</th>\n",
              "      <th>UserId</th>\n",
              "      <th>ProfileName</th>\n",
              "      <th>HelpfulnessNumerator</th>\n",
              "      <th>HelpfulnessDenominator</th>\n",
              "      <th>Score</th>\n",
              "      <th>Time</th>\n",
              "      <th>Summary</th>\n",
              "      <th>Text</th>\n",
              "    </tr>\n",
              "  </thead>\n",
              "  <tbody>\n",
              "    <tr>\n",
              "      <th>0</th>\n",
              "      <td>86829</td>\n",
              "      <td>0.000</td>\n",
              "      <td>0.838</td>\n",
              "      <td>0.162</td>\n",
              "      <td>0.8008</td>\n",
              "      <td>B0006SKCVI</td>\n",
              "      <td>A2B7DVDHUTUT5S</td>\n",
              "      <td>Abe Froman</td>\n",
              "      <td>1</td>\n",
              "      <td>1</td>\n",
              "      <td>5</td>\n",
              "      <td>1284422400</td>\n",
              "      <td>Giggity!</td>\n",
              "      <td>In the infamous words of Sir Glenn Quagmire; \"...</td>\n",
              "    </tr>\n",
              "    <tr>\n",
              "      <th>1</th>\n",
              "      <td>59278</td>\n",
              "      <td>0.067</td>\n",
              "      <td>0.613</td>\n",
              "      <td>0.319</td>\n",
              "      <td>0.8481</td>\n",
              "      <td>B0076RE7IG</td>\n",
              "      <td>A1ARCVHHCTJFBV</td>\n",
              "      <td>Melissa A. Headley</td>\n",
              "      <td>1</td>\n",
              "      <td>1</td>\n",
              "      <td>4</td>\n",
              "      <td>1329350400</td>\n",
              "      <td>Yummy</td>\n",
              "      <td>Man these things are good. I bought a pack at ...</td>\n",
              "    </tr>\n",
              "    <tr>\n",
              "      <th>2</th>\n",
              "      <td>117315</td>\n",
              "      <td>0.000</td>\n",
              "      <td>0.746</td>\n",
              "      <td>0.254</td>\n",
              "      <td>0.8176</td>\n",
              "      <td>B005R2GG4K</td>\n",
              "      <td>A13D7X0H3A5E6T</td>\n",
              "      <td>Kyle R. Johnson</td>\n",
              "      <td>0</td>\n",
              "      <td>0</td>\n",
              "      <td>5</td>\n",
              "      <td>1350950400</td>\n",
              "      <td>Good Coffee</td>\n",
              "      <td>The coffee was a good price and of excellent q...</td>\n",
              "    </tr>\n",
              "    <tr>\n",
              "      <th>3</th>\n",
              "      <td>57944</td>\n",
              "      <td>0.000</td>\n",
              "      <td>0.693</td>\n",
              "      <td>0.307</td>\n",
              "      <td>0.8555</td>\n",
              "      <td>B000AYDHTM</td>\n",
              "      <td>A2JHI62SYO24JW</td>\n",
              "      <td>O. A. Holden Jr. \"VaGentleman\"</td>\n",
              "      <td>1</td>\n",
              "      <td>1</td>\n",
              "      <td>5</td>\n",
              "      <td>1226793600</td>\n",
              "      <td>Lemon &amp; Ginger in the same cookie!!</td>\n",
              "      <td>I love lemon cookies and I love ginger cookies...</td>\n",
              "    </tr>\n",
              "    <tr>\n",
              "      <th>4</th>\n",
              "      <td>126491</td>\n",
              "      <td>0.019</td>\n",
              "      <td>0.780</td>\n",
              "      <td>0.202</td>\n",
              "      <td>0.9254</td>\n",
              "      <td>B000XHTD1W</td>\n",
              "      <td>A3PMD5PUXYZXM3</td>\n",
              "      <td>Beverly J. Cowling \"songbird_63366\"</td>\n",
              "      <td>3</td>\n",
              "      <td>5</td>\n",
              "      <td>5</td>\n",
              "      <td>1249948800</td>\n",
              "      <td>best sauce ever sold!</td>\n",
              "      <td>With the exception of an old sauce made by Ada...</td>\n",
              "    </tr>\n",
              "  </tbody>\n",
              "</table>\n",
              "</div>\n",
              "      <button class=\"colab-df-convert\" onclick=\"convertToInteractive('df-60f85def-3711-498f-8d19-2d2673571399')\"\n",
              "              title=\"Convert this dataframe to an interactive table.\"\n",
              "              style=\"display:none;\">\n",
              "        \n",
              "  <svg xmlns=\"http://www.w3.org/2000/svg\" height=\"24px\"viewBox=\"0 0 24 24\"\n",
              "       width=\"24px\">\n",
              "    <path d=\"M0 0h24v24H0V0z\" fill=\"none\"/>\n",
              "    <path d=\"M18.56 5.44l.94 2.06.94-2.06 2.06-.94-2.06-.94-.94-2.06-.94 2.06-2.06.94zm-11 1L8.5 8.5l.94-2.06 2.06-.94-2.06-.94L8.5 2.5l-.94 2.06-2.06.94zm10 10l.94 2.06.94-2.06 2.06-.94-2.06-.94-.94-2.06-.94 2.06-2.06.94z\"/><path d=\"M17.41 7.96l-1.37-1.37c-.4-.4-.92-.59-1.43-.59-.52 0-1.04.2-1.43.59L10.3 9.45l-7.72 7.72c-.78.78-.78 2.05 0 2.83L4 21.41c.39.39.9.59 1.41.59.51 0 1.02-.2 1.41-.59l7.78-7.78 2.81-2.81c.8-.78.8-2.07 0-2.86zM5.41 20L4 18.59l7.72-7.72 1.47 1.35L5.41 20z\"/>\n",
              "  </svg>\n",
              "      </button>\n",
              "      \n",
              "  <style>\n",
              "    .colab-df-container {\n",
              "      display:flex;\n",
              "      flex-wrap:wrap;\n",
              "      gap: 12px;\n",
              "    }\n",
              "\n",
              "    .colab-df-convert {\n",
              "      background-color: #E8F0FE;\n",
              "      border: none;\n",
              "      border-radius: 50%;\n",
              "      cursor: pointer;\n",
              "      display: none;\n",
              "      fill: #1967D2;\n",
              "      height: 32px;\n",
              "      padding: 0 0 0 0;\n",
              "      width: 32px;\n",
              "    }\n",
              "\n",
              "    .colab-df-convert:hover {\n",
              "      background-color: #E2EBFA;\n",
              "      box-shadow: 0px 1px 2px rgba(60, 64, 67, 0.3), 0px 1px 3px 1px rgba(60, 64, 67, 0.15);\n",
              "      fill: #174EA6;\n",
              "    }\n",
              "\n",
              "    [theme=dark] .colab-df-convert {\n",
              "      background-color: #3B4455;\n",
              "      fill: #D2E3FC;\n",
              "    }\n",
              "\n",
              "    [theme=dark] .colab-df-convert:hover {\n",
              "      background-color: #434B5C;\n",
              "      box-shadow: 0px 1px 3px 1px rgba(0, 0, 0, 0.15);\n",
              "      filter: drop-shadow(0px 1px 2px rgba(0, 0, 0, 0.3));\n",
              "      fill: #FFFFFF;\n",
              "    }\n",
              "  </style>\n",
              "\n",
              "      <script>\n",
              "        const buttonEl =\n",
              "          document.querySelector('#df-60f85def-3711-498f-8d19-2d2673571399 button.colab-df-convert');\n",
              "        buttonEl.style.display =\n",
              "          google.colab.kernel.accessAllowed ? 'block' : 'none';\n",
              "\n",
              "        async function convertToInteractive(key) {\n",
              "          const element = document.querySelector('#df-60f85def-3711-498f-8d19-2d2673571399');\n",
              "          const dataTable =\n",
              "            await google.colab.kernel.invokeFunction('convertToInteractive',\n",
              "                                                     [key], {});\n",
              "          if (!dataTable) return;\n",
              "\n",
              "          const docLinkHtml = 'Like what you see? Visit the ' +\n",
              "            '<a target=\"_blank\" href=https://colab.research.google.com/notebooks/data_table.ipynb>data table notebook</a>'\n",
              "            + ' to learn more about interactive tables.';\n",
              "          element.innerHTML = '';\n",
              "          dataTable['output_type'] = 'display_data';\n",
              "          await google.colab.output.renderOutput(dataTable, element);\n",
              "          const docLink = document.createElement('div');\n",
              "          docLink.innerHTML = docLinkHtml;\n",
              "          element.appendChild(docLink);\n",
              "        }\n",
              "      </script>\n",
              "    </div>\n",
              "  </div>\n",
              "  "
            ]
          },
          "metadata": {},
          "execution_count": 74
        }
      ]
    },
    {
      "cell_type": "code",
      "source": [
        "sns.barplot(x = 'Score', y = 'compound', data = vaders)\n",
        "plt.title(\"Compound versus Score on Amazon reviews\")"
      ],
      "metadata": {
        "colab": {
          "base_uri": "https://localhost:8080/",
          "height": 425
        },
        "id": "afM-RsX_gpWo",
        "outputId": "db96a1eb-02d2-444f-e69f-4054228c0a0d"
      },
      "execution_count": 75,
      "outputs": [
        {
          "output_type": "execute_result",
          "data": {
            "text/plain": [
              "Text(0.5, 1.0, 'Compound versus Score on Amazon reviews')"
            ]
          },
          "metadata": {},
          "execution_count": 75
        },
        {
          "output_type": "display_data",
          "data": {
            "text/plain": [
              "<Figure size 864x432 with 1 Axes>"
            ],
            "image/png": "[encoded data removed]"
          },
          "metadata": {
            "needs_background": "light"
          }
        }
      ]
    },
    {
      "cell_type": "markdown",
      "source": [
        "- This is exactly what we had expected. \n",
        "- Higher the star score, more positive the compound. "
      ],
      "metadata": {
        "id": "KIClfAkzh--n"
      }
    },
    {
      "cell_type": "code",
      "source": [
        "fig, axes= plt.subplots(1,3, figsize=(15,4))\n",
        "sns.barplot(x='Score', y='pos', data=vaders, ax=axes[0])\n",
        "sns.barplot(x='Score', y='neu', data=vaders, ax=axes[1])\n",
        "sns.barplot(x='Score', y='neg', data=vaders, ax=axes[2])\n",
        "axes[0].set_title('Positve')\n",
        "axes[1].set_title('Neutral')\n",
        "axes[2].set_title('Negative')\n",
        "plt.tight_layout()"
      ],
      "metadata": {
        "colab": {
          "base_uri": "https://localhost:8080/",
          "height": 297
        },
        "id": "zVsKsowGh6A2",
        "outputId": "ce58feaf-fb81-4344-ea36-754fef16bc19"
      },
      "execution_count": 84,
      "outputs": [
        {
          "output_type": "display_data",
          "data": {
            "text/plain": [
              "<Figure size 1080x288 with 3 Axes>"
            ],
            "image/png": "[encoded data removed]"
          },
          "metadata": {
            "needs_background": "light"
          }
        }
      ]
    },
    {
      "cell_type": "markdown",
      "source": [
        "- This makes our point more clear. \n",
        "- Positive reviews have higher score.\n",
        "- Negative reviews have lower score."
      ],
      "metadata": {
        "id": "Tq_RMagLkB1v"
      }
    }
  ]
}